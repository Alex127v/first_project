{
 "cells": [
  {
   "cell_type": "code",
   "execution_count": null,
   "id": "bb1c6ff1-a6b4-4f00-a369-9fa63c4ec109",
   "metadata": {},
   "outputs": [],
   "source": [
    "train = activity.query('date <= \"2025-01-20\"')\n",
    "test = activity.query('date > \"2025-01-20\"').astype({'DAU' : 'int64', 'view' : 'int64'})\n"
   ]
  },
  {
   "cell_type": "code",
   "execution_count": null,
   "id": "eeecd9d1-8029-4969-a288-dbf9ad71b24c",
   "metadata": {},
   "outputs": [],
   "source": [
    "dlt_map = DLT(response_col=\"DAU\", #название колонки с метрикой\n",
    "          date_col=\"date\", #название колонки с датами-временем\n",
    "          seasonality=7, #длина периода сезонности если у нас дневные данные - то очевидно что есть недельный цикл \n",
    "          estimator=\"stan-map\", #алгоритм оценки\n",
    "          n_bootstrap_draws=3000) #количество сэмплов бутстрапа для доверительного интервала"
   ]
  },
  {
   "cell_type": "code",
   "execution_count": null,
   "id": "8378b214-c1c9-4195-8f07-44e4d6f72735",
   "metadata": {},
   "outputs": [],
   "source": [
    "#Обучим модель на периоде train\n",
    "dlt_map.fit(train)\n",
    "#Предсказываем на период test\n",
    "predicted_df_map = dlt_map.predict(df=test)"
   ]
  },
  {
   "cell_type": "code",
   "execution_count": null,
   "id": "5708ae42-15b9-4efe-86ac-5cd5b5f6d97c",
   "metadata": {},
   "outputs": [],
   "source": [
    "#Рисуем прогноз на 3 недели (обучение модели 1,5 месяца)\n",
    "_ = plot_predicted_data(activity, predicted_df_map, \"date\", 'DAU', title='Prediction with DLT')"
   ]
  },
  {
   "cell_type": "code",
   "execution_count": null,
   "id": "fe92b4f2-d34d-4d42-87ea-80345598c479",
   "metadata": {},
   "outputs": [],
   "source": [
    "# Посмотрим на отдельные компоненты модели\n",
    "predicted_df_map = dlt_map.predict(df=test, decompose=True) # декомпозиция предсказания\n",
    "_ = plot_predicted_components(predicted_df_map, \"date\", plot_components=['prediction', 'trend', 'seasonality'])"
   ]
  },
  {
   "cell_type": "code",
   "execution_count": null,
   "id": "b15e9300-dec9-408a-96fd-71c692054c04",
   "metadata": {},
   "outputs": [],
   "source": [
    "# Строим модель (MCMC) как более точную\n",
    "dlt_mcmc = DLT(seasonality=7, response_col=\"DAU\", date_col=\"date\", \n",
    "               estimator='stan-mcmc', #новый алгоритм оценки\n",
    "               num_warmup=4000,       #время \"разогрева\"\n",
    "               num_sample=4000)       #время сэмплирования"
   ]
  },
  {
   "cell_type": "code",
   "execution_count": null,
   "id": "2c9ca8d6-b3e3-4607-bc23-93f875964f06",
   "metadata": {},
   "outputs": [],
   "source": [
    "# Построим модель с регрессором - количество просмотров, предварительно посмотрим корреляцию\n",
    "dlt_mcmc_reg = DLT(seasonality=7, response_col=\"DAU\", date_col=\"date\", \n",
    "               estimator='stan-mcmc', #новый алгоритм оценки\n",
    "               num_warmup=4000,       #время \"разогрева\"\n",
    "               num_sample=4000,       #время сэмплирования\n",
    "               regressor_col=[\"view\"]) #наша колонка с регрессором"
   ]
  },
  {
   "cell_type": "code",
   "execution_count": null,
   "id": "107cff71-9bd3-49ab-8f65-c07560ba4ceb",
   "metadata": {},
   "outputs": [],
   "source": [
    "# Попробуем построить модель с регуляризацией 'auto_ridge'\n",
    "dlt_mcmc_reg_auto = DLT(seasonality=7, response_col=\"DAU\", date_col=\"date\", \n",
    "               estimator='stan-mcmc', #новый алгоритм оценки\n",
    "               num_warmup=4000,       #время \"разогрева\"\n",
    "               num_sample=4000,       #время сэмплирования\n",
    "               regressor_col=[\"view\"], #наша колонка с регрессором\n",
    "               regression_penalty='auto_ridge'      )  "
   ]
  },
  {
   "cell_type": "code",
   "execution_count": null,
   "id": "888b43a8-a96c-4900-9634-8378ed04bf3b",
   "metadata": {},
   "outputs": [],
   "source": [
    "#для подбора оптимальных параметров\n",
    "from orbit.utils.params_tuning import grid_search_orbit #для подбора оптимальных параметров\n",
    "\n",
    "best_params, tuned_df = grid_search_orbit(param_grid={\"damped_factor\": np.arange(0.1, 1.0, 0.1)}, #наш параметр\n",
    "                                        model=dlt_mcmc,\n",
    "                                        df=activity,\n",
    "                                        min_train_len=7*2,\n",
    "                                        incremental_len=7,\n",
    "                                        forecast_len=7,\n",
    "                                        metrics=None, #смотрим smape по умолчанию\n",
    "                                        criteria=\"min\") #говорим, что нам нужна минимизаци"
   ]
  },
  {
   "cell_type": "code",
   "execution_count": null,
   "id": "20cb43f8-06ea-4433-9e6e-b26629efa5b1",
   "metadata": {},
   "outputs": [],
   "source": [
    "# Посмотрим на ошибку rmsse моделей\n",
    "from orbit.diagnostics.metrics import rmsse\n",
    "print(f\"Модель МАР: {rmsse(test.DAU.values, predicted_df_map.prediction.values, train.DAU.values)}\")\n",
    "print(f\"Модель МСМС: {rmsse(test.DAU.values, predicted_df_mcmc.prediction.values, train.DAU.values)}\")\n",
    "print(f\"Модель МСМС+регрессор: {rmsse(test.DAU.values, predicted_df_mcmc_reg.prediction.values, train.DAU.values)}\")\n",
    "print(f\"Модель МСМС+регрессор auto: {rmsse(test.DAU.values, predicted_df_mcmc_reg_auto.prediction.values, train.DAU.values)}\")\n",
    "print(f\"Модель МСМС+регрессор lasso: {rmsse(test.DAU.values, predicted_df_mcmc_reg_lasso.prediction.values, train.DAU.values)}\")"
   ]
  }
 ],
 "metadata": {
  "kernelspec": {
   "display_name": "Python 3 (ipykernel)",
   "language": "python",
   "name": "python3"
  },
  "language_info": {
   "codemirror_mode": {
    "name": "ipython",
    "version": 3
   },
   "file_extension": ".py",
   "mimetype": "text/x-python",
   "name": "python",
   "nbconvert_exporter": "python",
   "pygments_lexer": "ipython3",
   "version": "3.8.10"
  }
 },
 "nbformat": 4,
 "nbformat_minor": 5
}

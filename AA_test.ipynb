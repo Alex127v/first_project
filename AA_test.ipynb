{
 "cells": [
  {
   "cell_type": "code",
   "execution_count": null,
   "id": "a00e304e-4ee5-47d8-9b83-5be9477cd24e",
   "metadata": {},
   "outputs": [],
   "source": [
    "У нас имеется база данных в кикхаусе, куда ежедневно записываются данные по пользователям ленты новостей.\n",
    "Лента новостей представляет из себя посты с возможностью из просматривать, лайкать, и также отправлять сообщения\n",
    "друг другу. Действия по ленте новостей это like и view, действия по месссенджеру заполняются отдельной схемой в БД\n",
    "и включают просто сообщения, кому и когда. В целом, лента и мессенджер составляют некое приложение, которое мы \n",
    "хотим развивать, наполняя новыми пользователями и поддерживая их активность.\n",
    "Команда ML сделала два алгоритма рекомендаций которые улучшают ленту:\n",
    "1) Показываем пользователю посты, наиболее похожие на те, которые он лайкал. (группа 2)\n",
    "2) Показываем пользователю посты, которые лайкали похожие на него пользователи.  (группа 3)\n",
    "Ожидается, что новые алгоритмы сделают пользователей счастливее (то есть удлинится LTV, повысятся денежные \n",
    "конверсии и т.д.) а продукт удобнее/приятнее в использовании.\n",
    "В дальнейшем мы будем тестировать эти алгоритмы АВ тестом. А пока поймем верно ли алгоритм хеширования разбил \n",
    "пользователей ленты на группы а также однородны ли они.\n",
    "Для анализа возьмем метрику CTR -  в ней присутствуют лайки как индикатор заинтересованности, и она лишена \n",
    "недостатка просто абсолютного количества лайков, поскольку CTR  как бы нормирует лайки на просмотры и отражает\n",
    "качественные изменения в заинтересованности\n",
    "Для выяснения статистической однородности выборок, до АВ теста, проведем АА-тест, для дат\n",
    "до внедрения нового алгоритма в ленту с '2024-12-27' по '2025-01-02'.\n",
    "Для групп 2 и 3 берём из выборки, подвыборки без возвращения размером 500 \n",
    "Сравниваем их t-тестом 10000 раз, и сохраняем p-value (используем аргумент equal_var=False)\n"
   ]
  },
  {
   "cell_type": "code",
   "execution_count": null,
   "id": "5b7ac8db-64b7-477f-863c-8e697696cfd4",
   "metadata": {},
   "outputs": [],
   "source": [
    "# Наши данные уже разбиты на группы с помощью алгоритма хеширования с \"солью\"\n",
    "# К id пользователя прибавляет слово (соль - для каждого теста), затем алгоритм MD5 преобразует строку \n",
    "# в 128-битный хеш, (представленный в виде шестнадцатеричной строки) превращает это в уникальное число\n",
    "# Берем остаток от деления числа на количетво групп - получаем группу (она будет всегда одна\n",
    "# и таже для данного пользователя)\n",
    "def ab_split(id, salt='exp_mess_1', n_groups=5):\n",
    "    test_id = str(id) + '-' + str(salt)\n",
    "    test_id_digest = hashlib.md5(test_id.encode('ascii')).hexdigest()\n",
    "    test_id_final_int = int(test_id_digest, 16)\n",
    "    return test_id_final_int % n_groups"
   ]
  },
  {
   "cell_type": "code",
   "execution_count": 3,
   "id": "c5cbe4a1-122f-4edb-a197-63b50258496e",
   "metadata": {},
   "outputs": [],
   "source": [
    "# Импорт необходимых библиотек для визаулизации, тестов, и сбора данных из ClickHouse\n",
    "import seaborn as sns\n",
    "import matplotlib.pyplot as plt\n",
    "from scipy import stats\n",
    "import pandahouse as ph\n",
    "import pandas as pd\n",
    "# Подключение к ClickHouse\n",
    "connection = {\n",
    "    'host': 'https://clickhouse.lab.karpov.courses',\n",
    "    'database':'simulator_20250120',\n",
    "    'user':'student',\n",
    "    'password':'dpo_python_2020'}\n",
    "\n",
    "# Запрос данных (пользователи уже разбиты на 4 экспериментальных группы)\n",
    "# Группируем по пользователям и номеру группы, получим CRT у каждого пользователя\n",
    "q = \"\"\"\n",
    "SELECT exp_group, \n",
    "    user_id,\n",
    "    sum(action = 'like') as likes,\n",
    "    sum(action = 'view') as views,\n",
    "    likes/views as ctr\n",
    "FROM {db}.feed_actions \n",
    "WHERE toDate(time) >= toDate('2024-12-27') and toDate(time) <= toDate('2025-01-02')\n",
    "    and exp_group in (2,3)\n",
    "GROUP BY exp_group, user_id\n",
    "\"\"\"\n",
    "# Запрос исходной таблицы из БД для понимания структуры таблицы\n",
    "q_table = \"\"\"\n",
    "SELECT *\n",
    "FROM {db}.feed_actions \n",
    "WHERE toDate(time) >= toDate('2024-12-27') and toDate(time) <= toDate('2025-01-02')\"\"\""
   ]
  },
  {
   "cell_type": "code",
   "execution_count": 6,
   "id": "e9bd23a6-7e0b-4ade-b3da-c63921c2cad2",
   "metadata": {},
   "outputs": [
    {
     "data": {
      "text/html": [
       "<div>\n",
       "<style scoped>\n",
       "    .dataframe tbody tr th:only-of-type {\n",
       "        vertical-align: middle;\n",
       "    }\n",
       "\n",
       "    .dataframe tbody tr th {\n",
       "        vertical-align: top;\n",
       "    }\n",
       "\n",
       "    .dataframe thead th {\n",
       "        text-align: right;\n",
       "    }\n",
       "</style>\n",
       "<table border=\"1\" class=\"dataframe\">\n",
       "  <thead>\n",
       "    <tr style=\"text-align: right;\">\n",
       "      <th></th>\n",
       "      <th>user_id</th>\n",
       "      <th>post_id</th>\n",
       "      <th>action</th>\n",
       "      <th>time</th>\n",
       "      <th>gender</th>\n",
       "      <th>age</th>\n",
       "      <th>country</th>\n",
       "      <th>city</th>\n",
       "      <th>os</th>\n",
       "      <th>source</th>\n",
       "      <th>exp_group</th>\n",
       "    </tr>\n",
       "  </thead>\n",
       "  <tbody>\n",
       "    <tr>\n",
       "      <th>0</th>\n",
       "      <td>11509</td>\n",
       "      <td>1522</td>\n",
       "      <td>view</td>\n",
       "      <td>2024-12-27</td>\n",
       "      <td>1</td>\n",
       "      <td>14</td>\n",
       "      <td>Russia</td>\n",
       "      <td>Khabarovsk</td>\n",
       "      <td>Android</td>\n",
       "      <td>ads</td>\n",
       "      <td>2</td>\n",
       "    </tr>\n",
       "    <tr>\n",
       "      <th>1</th>\n",
       "      <td>14946</td>\n",
       "      <td>1121</td>\n",
       "      <td>view</td>\n",
       "      <td>2024-12-27</td>\n",
       "      <td>0</td>\n",
       "      <td>39</td>\n",
       "      <td>Russia</td>\n",
       "      <td>Kirov</td>\n",
       "      <td>iOS</td>\n",
       "      <td>ads</td>\n",
       "      <td>4</td>\n",
       "    </tr>\n",
       "    <tr>\n",
       "      <th>2</th>\n",
       "      <td>107626</td>\n",
       "      <td>1261</td>\n",
       "      <td>view</td>\n",
       "      <td>2024-12-27</td>\n",
       "      <td>1</td>\n",
       "      <td>19</td>\n",
       "      <td>Russia</td>\n",
       "      <td>Sibay</td>\n",
       "      <td>Android</td>\n",
       "      <td>organic</td>\n",
       "      <td>0</td>\n",
       "    </tr>\n",
       "    <tr>\n",
       "      <th>3</th>\n",
       "      <td>117693</td>\n",
       "      <td>1380</td>\n",
       "      <td>view</td>\n",
       "      <td>2024-12-27</td>\n",
       "      <td>1</td>\n",
       "      <td>19</td>\n",
       "      <td>Russia</td>\n",
       "      <td>Cherlak</td>\n",
       "      <td>Android</td>\n",
       "      <td>organic</td>\n",
       "      <td>2</td>\n",
       "    </tr>\n",
       "    <tr>\n",
       "      <th>4</th>\n",
       "      <td>119016</td>\n",
       "      <td>1467</td>\n",
       "      <td>view</td>\n",
       "      <td>2024-12-27</td>\n",
       "      <td>1</td>\n",
       "      <td>25</td>\n",
       "      <td>Russia</td>\n",
       "      <td>Kostroma</td>\n",
       "      <td>Android</td>\n",
       "      <td>organic</td>\n",
       "      <td>0</td>\n",
       "    </tr>\n",
       "  </tbody>\n",
       "</table>\n",
       "</div>"
      ],
      "text/plain": [
       "   user_id  post_id action       time  gender  age country        city  \\\n",
       "0    11509     1522   view 2024-12-27       1   14  Russia  Khabarovsk   \n",
       "1    14946     1121   view 2024-12-27       0   39  Russia       Kirov   \n",
       "2   107626     1261   view 2024-12-27       1   19  Russia       Sibay   \n",
       "3   117693     1380   view 2024-12-27       1   19  Russia     Cherlak   \n",
       "4   119016     1467   view 2024-12-27       1   25  Russia    Kostroma   \n",
       "\n",
       "        os   source  exp_group  \n",
       "0  Android      ads          2  \n",
       "1      iOS      ads          4  \n",
       "2  Android  organic          0  \n",
       "3  Android  organic          2  \n",
       "4  Android  organic          0  "
      ]
     },
     "execution_count": 6,
     "metadata": {},
     "output_type": "execute_result"
    }
   ],
   "source": [
    "# Наша исходная таблица со всеми данными по каждому пользователю и группой exp_group\n",
    "df_table = ph.read_clickhouse(q_table, connection=connection)\n",
    "df_table.head(5)"
   ]
  },
  {
   "cell_type": "code",
   "execution_count": 7,
   "id": "2ff0bf61-8faa-4ce0-bea9-e07a18b070ee",
   "metadata": {},
   "outputs": [
    {
     "data": {
      "text/html": [
       "<div>\n",
       "<style scoped>\n",
       "    .dataframe tbody tr th:only-of-type {\n",
       "        vertical-align: middle;\n",
       "    }\n",
       "\n",
       "    .dataframe tbody tr th {\n",
       "        vertical-align: top;\n",
       "    }\n",
       "\n",
       "    .dataframe thead th {\n",
       "        text-align: right;\n",
       "    }\n",
       "</style>\n",
       "<table border=\"1\" class=\"dataframe\">\n",
       "  <thead>\n",
       "    <tr style=\"text-align: right;\">\n",
       "      <th></th>\n",
       "      <th>exp_group</th>\n",
       "      <th>user_id</th>\n",
       "      <th>likes</th>\n",
       "      <th>views</th>\n",
       "      <th>ctr</th>\n",
       "    </tr>\n",
       "  </thead>\n",
       "  <tbody>\n",
       "    <tr>\n",
       "      <th>0</th>\n",
       "      <td>3</td>\n",
       "      <td>115383</td>\n",
       "      <td>38</td>\n",
       "      <td>248</td>\n",
       "      <td>0.153226</td>\n",
       "    </tr>\n",
       "    <tr>\n",
       "      <th>1</th>\n",
       "      <td>3</td>\n",
       "      <td>10326</td>\n",
       "      <td>24</td>\n",
       "      <td>132</td>\n",
       "      <td>0.181818</td>\n",
       "    </tr>\n",
       "    <tr>\n",
       "      <th>2</th>\n",
       "      <td>3</td>\n",
       "      <td>123580</td>\n",
       "      <td>25</td>\n",
       "      <td>122</td>\n",
       "      <td>0.204918</td>\n",
       "    </tr>\n",
       "    <tr>\n",
       "      <th>3</th>\n",
       "      <td>2</td>\n",
       "      <td>131473</td>\n",
       "      <td>19</td>\n",
       "      <td>98</td>\n",
       "      <td>0.193878</td>\n",
       "    </tr>\n",
       "    <tr>\n",
       "      <th>4</th>\n",
       "      <td>2</td>\n",
       "      <td>23985</td>\n",
       "      <td>12</td>\n",
       "      <td>44</td>\n",
       "      <td>0.272727</td>\n",
       "    </tr>\n",
       "  </tbody>\n",
       "</table>\n",
       "</div>"
      ],
      "text/plain": [
       "   exp_group  user_id  likes  views       ctr\n",
       "0          3   115383     38    248  0.153226\n",
       "1          3    10326     24    132  0.181818\n",
       "2          3   123580     25    122  0.204918\n",
       "3          2   131473     19     98  0.193878\n",
       "4          2    23985     12     44  0.272727"
      ]
     },
     "execution_count": 7,
     "metadata": {},
     "output_type": "execute_result"
    }
   ],
   "source": [
    "# Наш датафрейм c like, view, ctr для каждого пользователя\n",
    "df = ph.read_clickhouse(q, connection=connection)\n",
    "df.head(5)"
   ]
  },
  {
   "cell_type": "code",
   "execution_count": 8,
   "id": "d5571f90-06f7-43e3-9561-3d5815abd404",
   "metadata": {},
   "outputs": [
    {
     "data": {
      "text/plain": [
       "exp_group\n",
       "2    8362\n",
       "3    8425\n",
       "Name: user_id, dtype: int64"
      ]
     },
     "execution_count": 8,
     "metadata": {},
     "output_type": "execute_result"
    }
   ],
   "source": [
    "# Сразу смотрим размер наших групп, должен быть примерно одинаков\n",
    "df.groupby('exp_group')['user_id'].count()"
   ]
  },
  {
   "cell_type": "code",
   "execution_count": 2,
   "id": "2c47d305-bf22-4127-a1c4-3043547faaec",
   "metadata": {},
   "outputs": [
    {
     "data": {
      "image/png": "[encoded data removed]",
      "text/plain": [
       "<Figure size 576x288 with 1 Axes>"
      ]
     },
     "metadata": {
      "needs_background": "light"
     },
     "output_type": "display_data"
    }
   ],
   "source": [
    "# Оценим наши выбоки визуально с помощью гистограммы\n",
    "plt.figure(figsize=(8,4)) \n",
    "sns.histplot(data = df, x='ctr', hue='exp_group', palette = ['y', 'b'], alpha=0.3, kde=False)\n",
    "plt.title('Histogram CTR')\n",
    "plt.xlabel('CTR')\n",
    "plt.ylabel('Count')\n",
    "plt.show()\n",
    "#  Визуально различий между нашими выборками нет"
   ]
  },
  {
   "cell_type": "code",
   "execution_count": 28,
   "id": "72a0347c-35be-4a4d-ac4a-5f90fd81319a",
   "metadata": {},
   "outputs": [
    {
     "data": {
      "image/png": "[encoded data removed]",
      "text/plain": [
       "<Figure size 720x288 with 2 Axes>"
      ]
     },
     "metadata": {
      "needs_background": "light"
     },
     "output_type": "display_data"
    }
   ],
   "source": [
    "#  Q-Q plot для CTR_2\n",
    "plt.figure(figsize=(10, 4))\n",
    "\n",
    "plt.subplot(1, 2, 1)\n",
    "stats.probplot(df[df['exp_group'] == 2]['ctr'], dist=\"norm\", plot=plt)\n",
    "plt.title('Q-Q plot CTR_2')\n",
    "\n",
    "#  Q-Q plot для CTR_3\n",
    "plt.subplot(1, 2, 2)\n",
    "stats.probplot(df[df['exp_group'] == 3]['ctr'], dist=\"norm\", plot=plt)\n",
    "plt.title('Q-Q plot CTR_3')\n",
    "plt.show()\n",
    "# Судя по графикам наши выборки имеют отличное от нормального распределение\n",
    "# это выбросы в хвостах распределений, и небольшая ассиметрия."
   ]
  },
  {
   "cell_type": "code",
   "execution_count": 3,
   "id": "4ad7db71-1a91-4127-91af-5bd6fa948873",
   "metadata": {},
   "outputs": [
    {
     "name": "stdout",
     "output_type": "stream",
     "text": [
      "Для группы 2: Statistic = 0.51, Pvalue = 0.00\n",
      "Для группы 3: Statistic = 0.51, Pvalue = 0.00\n"
     ]
    }
   ],
   "source": [
    "# Посмотрим что датет проверка на нормальность теста Колмогорова-Смирнова\n",
    "stat2, p2 = stats.kstest(df[df.exp_group == 2].ctr,'norm')\n",
    "stat3, p3 = stats.kstest(df[df.exp_group == 3].ctr,'norm')\n",
    "print(f'Для группы 2: Statistic = {stat2:.2f}, Pvalue = {p2:.2f}\\n'\n",
    "      f'Для группы 3: Statistic = {stat2:.2f}, Pvalue = {p2:.2f}')\n",
    "# Нулевую гипотезу о нормальности распределения отклоняеем для обеих выборок"
   ]
  },
  {
   "cell_type": "code",
   "execution_count": 7,
   "id": "3becf8c3-d3e1-4a4d-9762-f6ee4649e2a7",
   "metadata": {},
   "outputs": [
    {
     "name": "stdout",
     "output_type": "stream",
     "text": [
      "Statistic levene = 0.32 Pvalue = 0.57\n"
     ]
    }
   ],
   "source": [
    "# Применяем тест Левена для проверки равенства дисперсий при отклонении от нормальности\n",
    "stat, p_value = stats.levene(df[df.exp_group == 2].ctr, df[df.exp_group == 3].ctr)\n",
    "\n",
    "print(f'Statistic levene = {stat:.2f} Pvalue = {p_value:.2f}')\n",
    "\n",
    "# Похоже дисперсии наших распределений равны"
   ]
  },
  {
   "cell_type": "code",
   "execution_count": 44,
   "id": "c71c9c19-1dcf-4332-ad66-579377a048f4",
   "metadata": {},
   "outputs": [
    {
     "name": "stdout",
     "output_type": "stream",
     "text": [
      "T-test: Pvalue = 0.5081292746071069\n",
      "Mannwhitney: Pvalue = 0.8340910379715747\n"
     ]
    }
   ],
   "source": [
    "# Наши выборки имеют небольшие отклонения от нормального распределения, и равные дисперсии,\n",
    "# при условии что размер выборок достаточно большой можно использовать T test.\n",
    "# Для эксперимента посмотрим T-test и Mannwhitney\n",
    "# Рекомендации по схожим постам - группа 2. \n",
    "# Рекомендации по похожим пользователям - группа 3\n",
    "\n",
    "stat_t, p2_t = stats.ttest_ind(df[df.exp_group == 2].ctr, df[df.exp_group == 3].ctr, equal_var=True) \n",
    "stat_mu, p2_mu = stats.mannwhitneyu(df[df.exp_group == 2].ctr, df[df.exp_group == 3].ctr)\n",
    "print(f'T-test: Pvalue = {p2_t}\\n'\n",
    "      f'Mannwhitney: Pvalue = {p2_mu}')\n",
    "# Оба теста говорят о однородности наших выборок"
   ]
  },
  {
   "cell_type": "code",
   "execution_count": 58,
   "id": "fc1e8db9-0c25-426e-bcd8-016501552137",
   "metadata": {},
   "outputs": [
    {
     "name": "stdout",
     "output_type": "stream",
     "text": [
      "Доля p_value ниже 0,05 = 0.0475\n"
     ]
    }
   ],
   "source": [
    "# Проведем Т-тест 10 000 раз со случайными подвыборками по 500 человек из групп 2 и 3\n",
    "# Без возвращения replace=False для чистоты эксперимента\n",
    "p_distribution = []\n",
    "p_low = 0\n",
    "for _ in range(10000):\n",
    "    p = stats.ttest_ind(\n",
    "    df[df.exp_group == 2].ctr.sample(500, replace=False),\n",
    "    df[df.exp_group == 3].ctr.sample(500, replace=False),\n",
    "    equal_var=True).pvalue\n",
    "    p_distribution.append(p)\n",
    "    if p < 0.05:\n",
    "        p_low += 1\n",
    "print(f'Доля p_value ниже 0,05 = {p_low/len(p_distribution)}')          "
   ]
  },
  {
   "cell_type": "code",
   "execution_count": 59,
   "id": "cfd5f292-d6bc-47fe-8a2c-98a7ceef65b5",
   "metadata": {},
   "outputs": [],
   "source": [
    "# Доля ложных срабатываний T-test составляет менее 5% что полностью согласуется \n",
    "# с нулевой гипотезой о равенстве средних CTR в выборках. Как итог можно сказать что\n",
    "# наш АА тест подтверждает гипотезу о статистической однородности выборок до применения\n",
    "# нового алгоритма в ленте"
   ]
  },
  {
   "cell_type": "code",
   "execution_count": 66,
   "id": "ffd333a7-a770-4329-b4a5-48ceadf9104d",
   "metadata": {},
   "outputs": [
    {
     "data": {
      "image/png": "[encoded data removed]",
      "text/plain": [
       "<Figure size 576x216 with 1 Axes>"
      ]
     },
     "metadata": {},
     "output_type": "display_data"
    }
   ],
   "source": [
    "# Посмотрим гистограмму распределения  p-value (Т-тест 10 000 раз подвыборки по 500 человек из групп 2 и 3)\n",
    "p_data = pd.DataFrame(p_distribution, columns=['p_value'])\n",
    "\n",
    "plt.figure(figsize=(8,3))\n",
    "plt.hist(p_data['p_value'], bins=40)\n",
    "plt.title('Histogram Pvalue')\n",
    "plt.xlabel('p_value')\n",
    "plt.ylabel('Count')\n",
    "plt.show()   \n",
    "# Распределение получилось равномерное, что говорить об отсутствии\n",
    "# различий между выборками"
   ]
  },
  {
   "cell_type": "code",
   "execution_count": null,
   "id": "e70683af-7051-43d4-b255-13504247b5a2",
   "metadata": {},
   "outputs": [],
   "source": []
  },
  {
   "cell_type": "code",
   "execution_count": null,
   "id": "21e6af58-99d5-4982-a43e-49620b4f7a96",
   "metadata": {},
   "outputs": [],
   "source": []
  }
 ],
 "metadata": {
  "kernelspec": {
   "display_name": "Python 3 (ipykernel)",
   "language": "python",
   "name": "python3"
  },
  "language_info": {
   "codemirror_mode": {
    "name": "ipython",
    "version": 3
   },
   "file_extension": ".py",
   "mimetype": "text/x-python",
   "name": "python",
   "nbconvert_exporter": "python",
   "pygments_lexer": "ipython3",
   "version": "3.8.10"
  }
 },
 "nbformat": 4,
 "nbformat_minor": 5
}

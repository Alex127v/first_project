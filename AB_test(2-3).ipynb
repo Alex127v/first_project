{
 "cells": [
  {
   "cell_type": "raw",
   "id": "d6060f19-0bb8-4a3d-9eb6-f9460f72013a",
   "metadata": {},
   "source": [
    "У нас имеется база данных в кикхаусе, куда ежедневно записываются данные по пользователям ленты новостей.\n",
    "Лента новостей представляет из себя посты с возможностью их просматривать, лайкать, и также отправлять сообщения\n",
    "друг другу. Действия по ленте новостей это like и view, действия по месссенджеру заполняются отдельной схемой в БД\n",
    "и включают просто сообщения, кому и когда. В целом, лента и мессенджер составляют некое приложение, которое мы \n",
    "хотим развивать, наполняя новыми пользователями и поддерживая их активность.\n",
    "Команда ML сделала два алгоритма рекомендаций которые улучшают ленту:\n",
    "1) Показываем пользователю посты, наиболее похожие на те, которые он лайкал. (группа 2)\n",
    "2) Показываем пользователю посты, которые лайкали похожие на него пользователи.  (группа 3)\n",
    "Ожидается, что новые алгоритмы сделают пользователей счастливее (то есть удлинится LTV, повысятся денежные \n",
    "конверсии и т.д.) а продукт удобнее/приятнее в использовании.\n",
    "Задание проверить улучшает ли новый алгоритм рекомендаций ленту новостей. Мы тестируем метрику CTR, поскольку\n",
    "она учитывает \"базовую\" активность (просмотры). Это делает её более надёжной для оценки изменений в заинтересованности, чем абсолютные значения лайков.\n",
    "Эксперимент прроходил с 2025-01-03 по 2025-01-09 включительно. \n",
    "Для эксперимента были задействованы 2 и 1 группы.\n",
    "В группе 2 был использован один из новых алгоритмов, группа 1 - без изменений.\n",
    "Основная гипотеза - новый алгоритм во 2-й группе приведет к увеличению CTR.\n",
    "Нужно выдать рекомендации, будем ли мы раскатывать новый алгоритм на всех \n",
    "новых пользователей или все-таки не стоит и почему?"
   ]
  },
  {
   "cell_type": "code",
   "execution_count": null,
   "id": "4c24d8a6-bb19-4f4d-9d47-c6609c47e4af",
   "metadata": {},
   "outputs": [],
   "source": [
    "'''Мы проведем  Т-тест, Мана Уитни, Пуассоновский бутстрап, а также бакетное преобразование и сглаживание метрики'''"
   ]
  },
  {
   "cell_type": "code",
   "execution_count": 1,
   "id": "b392b56e-4fa9-4af5-8f72-0c01c4b74f0c",
   "metadata": {},
   "outputs": [],
   "source": [
    "# Импорт необходимых библиотек для визаулизации, тестов, и сбора данных из ClickHouse\n",
    "import seaborn as sns\n",
    "from scipy import stats\n",
    "import pandahouse as ph\n",
    "import matplotlib.pyplot as plt\n",
    "import pandas as pd"
   ]
  },
  {
   "cell_type": "code",
   "execution_count": 2,
   "id": "d657dd0c-ccdd-4c67-bded-3c3c01c4c7b8",
   "metadata": {},
   "outputs": [],
   "source": [
    "# Соединяемся с кликхаус и запрашиваем данные с 2025-01-03 по 2025-01-09\n",
    "connection = {\n",
    "    'host': 'https://clickhouse.lab.karpov.courses',\n",
    "    'database':'simulator_20250120',\n",
    "    'user':'student',\n",
    "    'password':'dpo_python_2020'}\n",
    "\n",
    "q = \"\"\"\n",
    "SELECT exp_group, \n",
    "    user_id,\n",
    "    sum(action = 'like') as likes,\n",
    "    sum(action = 'view') as views,\n",
    "    likes/views as ctr\n",
    "FROM {db}.feed_actions \n",
    "WHERE toDate(time) >= toDate('2025-01-03') and toDate(time) <= toDate('2025-01-09')\n",
    "    and exp_group in (2,1)\n",
    "GROUP BY exp_group, user_id\n",
    "\"\"\"\n",
    "# Запрос исходной таблицы из БД для понимания структуры таблицы\n",
    "q_table = \"\"\"\n",
    "SELECT *\n",
    "FROM {db}.feed_actions \n",
    "WHERE toDate(time) >= toDate('2025-01-03') and toDate(time) <= toDate('2025-01-04')\"\"\""
   ]
  },
  {
   "cell_type": "code",
   "execution_count": 3,
   "id": "e82639fb-2a2d-4051-a856-5492436a7a39",
   "metadata": {},
   "outputs": [
    {
     "data": {
      "text/html": [
       "<div>\n",
       "<style scoped>\n",
       "    .dataframe tbody tr th:only-of-type {\n",
       "        vertical-align: middle;\n",
       "    }\n",
       "\n",
       "    .dataframe tbody tr th {\n",
       "        vertical-align: top;\n",
       "    }\n",
       "\n",
       "    .dataframe thead th {\n",
       "        text-align: right;\n",
       "    }\n",
       "</style>\n",
       "<table border=\"1\" class=\"dataframe\">\n",
       "  <thead>\n",
       "    <tr style=\"text-align: right;\">\n",
       "      <th></th>\n",
       "      <th>user_id</th>\n",
       "      <th>post_id</th>\n",
       "      <th>action</th>\n",
       "      <th>time</th>\n",
       "      <th>gender</th>\n",
       "      <th>age</th>\n",
       "      <th>country</th>\n",
       "      <th>city</th>\n",
       "      <th>os</th>\n",
       "      <th>source</th>\n",
       "      <th>exp_group</th>\n",
       "    </tr>\n",
       "  </thead>\n",
       "  <tbody>\n",
       "    <tr>\n",
       "      <th>0</th>\n",
       "      <td>123767</td>\n",
       "      <td>2040</td>\n",
       "      <td>view</td>\n",
       "      <td>2025-01-04 20:06:53</td>\n",
       "      <td>1</td>\n",
       "      <td>21</td>\n",
       "      <td>Russia</td>\n",
       "      <td>Samara</td>\n",
       "      <td>Android</td>\n",
       "      <td>organic</td>\n",
       "      <td>1</td>\n",
       "    </tr>\n",
       "    <tr>\n",
       "      <th>1</th>\n",
       "      <td>129655</td>\n",
       "      <td>2116</td>\n",
       "      <td>view</td>\n",
       "      <td>2025-01-04 20:06:53</td>\n",
       "      <td>0</td>\n",
       "      <td>26</td>\n",
       "      <td>Russia</td>\n",
       "      <td>Saint Petersburg</td>\n",
       "      <td>iOS</td>\n",
       "      <td>organic</td>\n",
       "      <td>4</td>\n",
       "    </tr>\n",
       "    <tr>\n",
       "      <th>2</th>\n",
       "      <td>131026</td>\n",
       "      <td>2095</td>\n",
       "      <td>view</td>\n",
       "      <td>2025-01-04 20:06:53</td>\n",
       "      <td>1</td>\n",
       "      <td>22</td>\n",
       "      <td>Russia</td>\n",
       "      <td>Moscow</td>\n",
       "      <td>Android</td>\n",
       "      <td>organic</td>\n",
       "      <td>4</td>\n",
       "    </tr>\n",
       "    <tr>\n",
       "      <th>3</th>\n",
       "      <td>28786</td>\n",
       "      <td>2167</td>\n",
       "      <td>view</td>\n",
       "      <td>2025-01-04 20:06:54</td>\n",
       "      <td>1</td>\n",
       "      <td>16</td>\n",
       "      <td>Russia</td>\n",
       "      <td>Moscow</td>\n",
       "      <td>iOS</td>\n",
       "      <td>ads</td>\n",
       "      <td>2</td>\n",
       "    </tr>\n",
       "    <tr>\n",
       "      <th>4</th>\n",
       "      <td>131026</td>\n",
       "      <td>2048</td>\n",
       "      <td>view</td>\n",
       "      <td>2025-01-04 20:06:54</td>\n",
       "      <td>1</td>\n",
       "      <td>22</td>\n",
       "      <td>Russia</td>\n",
       "      <td>Moscow</td>\n",
       "      <td>Android</td>\n",
       "      <td>organic</td>\n",
       "      <td>4</td>\n",
       "    </tr>\n",
       "  </tbody>\n",
       "</table>\n",
       "</div>"
      ],
      "text/plain": [
       "   user_id  post_id action                time  gender  age country  \\\n",
       "0   123767     2040   view 2025-01-04 20:06:53       1   21  Russia   \n",
       "1   129655     2116   view 2025-01-04 20:06:53       0   26  Russia   \n",
       "2   131026     2095   view 2025-01-04 20:06:53       1   22  Russia   \n",
       "3    28786     2167   view 2025-01-04 20:06:54       1   16  Russia   \n",
       "4   131026     2048   view 2025-01-04 20:06:54       1   22  Russia   \n",
       "\n",
       "               city       os   source  exp_group  \n",
       "0            Samara  Android  organic          1  \n",
       "1  Saint Petersburg      iOS  organic          4  \n",
       "2            Moscow  Android  organic          4  \n",
       "3            Moscow      iOS      ads          2  \n",
       "4            Moscow  Android  organic          4  "
      ]
     },
     "execution_count": 3,
     "metadata": {},
     "output_type": "execute_result"
    }
   ],
   "source": [
    "# Наша исходная таблица со всеми данными по каждому пользователю и группой exp_group\n",
    "df_table = ph.read_clickhouse(q_table, connection=connection)\n",
    "df_table.head(5)"
   ]
  },
  {
   "cell_type": "code",
   "execution_count": 4,
   "id": "1d691609-7f89-4af7-9140-0fdcea1a6ee0",
   "metadata": {},
   "outputs": [
    {
     "data": {
      "text/plain": [
       "exp_group\n",
       "1    10020\n",
       "2     9877\n",
       "Name: user_id, dtype: int64"
      ]
     },
     "execution_count": 4,
     "metadata": {},
     "output_type": "execute_result"
    }
   ],
   "source": [
    "# Смотрим размер выборок должен быть примерно одиноковый\n",
    "df = ph.read_clickhouse(q, connection=connection)\n",
    "df.groupby('exp_group')['user_id'].count()"
   ]
  },
  {
   "cell_type": "code",
   "execution_count": 4,
   "id": "9255393d-4f61-4d3f-88b1-15994cea2078",
   "metadata": {},
   "outputs": [
    {
     "data": {
      "text/plain": [
       "exp_group\n",
       "1    0.216774\n",
       "2    0.216102\n",
       "Name: ctr, dtype: float64"
      ]
     },
     "execution_count": 4,
     "metadata": {},
     "output_type": "execute_result"
    }
   ],
   "source": [
    "# Посмотрим размер среднего CTR в выборках\n",
    "df.groupby('exp_group')['ctr'].mean()"
   ]
  },
  {
   "cell_type": "code",
   "execution_count": 3,
   "id": "1ac99fd7-1fad-4317-958f-1985e7073ce8",
   "metadata": {},
   "outputs": [
    {
     "data": {
      "image/png": "[encoded data removed]",
      "text/plain": [
       "<Figure size 432x288 with 1 Axes>"
      ]
     },
     "metadata": {
      "needs_background": "light"
     },
     "output_type": "display_data"
    }
   ],
   "source": [
    "# Посмотрим на распределения CTR визуально\n",
    "sns.set(rc={'figure.figsize':(11,5)})\n",
    "\n",
    "sns.histplot(data = df, x='ctr', hue='exp_group', palette = ['y', 'b'], alpha=0.3, kde=False)\n",
    "\n",
    "# Распределение признака 2 группы имеет два характерных максимума\n",
    "# при этом средние в группах различаются незначительно"
   ]
  },
  {
   "cell_type": "code",
   "execution_count": 7,
   "id": "750c4c92-cc90-4d6f-9e6b-da44db85dff8",
   "metadata": {},
   "outputs": [
    {
     "name": "stdout",
     "output_type": "stream",
     "text": [
      "Для группы 1: Statistic = 0.51, Pvalue = 0.00\n",
      "Для группы 2: Statistic = 0.51, Pvalue = 0.00\n",
      "0.5124048076137383, 0.0\n"
     ]
    }
   ],
   "source": [
    "# Посмотрим что датет проверка на нормальность теста Колмогорова- Смирнова\n",
    "stat1, p1 = stats.kstest(df[df.exp_group == 1].ctr,'norm')\n",
    "stat2, p2 = stats.kstest(df[df.exp_group == 2].ctr,'norm')\n",
    "print(f'Для группы 1: Statistic = {stat2:.2f}, Pvalue = {p2:.2f}\\n'\n",
    "      f'Для группы 2: Statistic = {stat2:.2f}, Pvalue = {p2:.2f}')\n",
    "\n",
    "# Нулевую гипотезу о нормальности распределения отклоняеем для обеих выборок"
   ]
  },
  {
   "cell_type": "code",
   "execution_count": 6,
   "id": "4aaac53a-da53-4722-8cea-6d521c688efb",
   "metadata": {},
   "outputs": [
    {
     "data": {
      "image/png": "[encoded data removed]",
      "text/plain": [
       "<Figure size 720x288 with 2 Axes>"
      ]
     },
     "metadata": {
      "needs_background": "light"
     },
     "output_type": "display_data"
    }
   ],
   "source": [
    "#  Q-Q plot для CTR_1\n",
    "plt.figure(figsize=(10, 4))\n",
    "\n",
    "plt.subplot(1, 2, 1)\n",
    "stats.probplot(df[df['exp_group'] == 1]['ctr'], dist=\"norm\", plot=plt)\n",
    "plt.title('Q-Q plot CTR_')\n",
    "\n",
    "#  Q-Q plot для CTR_2\n",
    "plt.subplot(1, 2, 2)\n",
    "stats.probplot(df[df['exp_group'] == 2]['ctr'], dist=\"norm\", plot=plt)\n",
    "plt.title('Q-Q plot CTR_2')\n",
    "plt.show()\n",
    "# Судя по графикам наши выборки имеют отличное от нормального распределение\n",
    "# для 1группы небольшие отклонения,а для группы 2 гараздо более выраженные отличия ."
   ]
  },
  {
   "cell_type": "code",
   "execution_count": 8,
   "id": "f22a4b9b-3797-49a6-bd8d-2fbc61efc580",
   "metadata": {},
   "outputs": [
    {
     "name": "stdout",
     "output_type": "stream",
     "text": [
      "Statistic levene = 2757.79 Pvalue = 0.00\n"
     ]
    }
   ],
   "source": [
    "# Сравним дисперсии выборок тестом Левена для не нормальных распределений\n",
    "stat, p = stats.levene(df[df.exp_group == 1].ctr, df[df.exp_group == 2].ctr)\n",
    "print(f'Statistic levene = {stat:.2f} Pvalue = {p_value:.2f}')"
   ]
  },
  {
   "cell_type": "code",
   "execution_count": 12,
   "id": "df5f0b7e-8e33-4bf5-825b-f00bb15a8786",
   "metadata": {},
   "outputs": [
    {
     "name": "stdout",
     "output_type": "stream",
     "text": [
      "Statistic = 0.41, Pvalue = 0.69\n"
     ]
    }
   ],
   "source": [
    "# Мы имеем распределения отклоненные от нормальных и не равные дисперсии\n",
    "# Посмотрим что даст в таких условия Т-тест\n",
    "stat_t, p_t = stats.ttest_ind(df[df.exp_group == 1].ctr,\n",
    "                df[df.exp_group == 2].ctr,\n",
    "                equal_var=False)\n",
    "print(f'Statistic = {stat_t:.2f}, Pvalue = {p_t:.2f}')"
   ]
  },
  {
   "cell_type": "code",
   "execution_count": null,
   "id": "f1a56b5a-3164-4be8-aaec-512a966845d1",
   "metadata": {},
   "outputs": [],
   "source": [
    "Т-тест говорит об отсутствии значимых различий в выборках, но\n",
    "поскольку данные имею сильные отклонения от нормальности - мы не будет доверять\n",
    "этим данным, а проведем еще тесты."
   ]
  },
  {
   "cell_type": "code",
   "execution_count": 27,
   "id": "e0cf67a1-8032-4ca5-af82-6b078dbab473",
   "metadata": {},
   "outputs": [
    {
     "name": "stdout",
     "output_type": "stream",
     "text": [
      "two-sided Statistic = 55189913.00, Pvalue = 0.00\n",
      "less Statistic = 55189913.00, Pvalue = 1.00\n"
     ]
    }
   ],
   "source": [
    "# Мана-Уитни\n",
    "# 'two-sided' различия вообще ,'less' первая выборка меньше, 'greater' первая выборка больше\n",
    "stat_m, p_m = stats.mannwhitneyu(df[df.exp_group == 1].ctr,\n",
    "                  df[df.exp_group == 2].ctr,\n",
    "                  alternative = 'two-sided')\n",
    "stat_1, p_1 = stats.mannwhitneyu(df[df.exp_group == 1].ctr,\n",
    "                  df[df.exp_group == 2].ctr,\n",
    "                  alternative = 'less')\n",
    "print(f'two-sided Statistic = {stat_m:.2f}, Pvalue = {p_m:.2f}\\n'\n",
    "      f'less Statistic = {stat_1:.2f}, Pvalue = {p_1:.2f}')\n"
   ]
  },
  {
   "cell_type": "code",
   "execution_count": null,
   "id": "4a43b0bf-b0df-4c14-ae2d-482cc80d01eb",
   "metadata": {},
   "outputs": [],
   "source": [
    "Наш новый алгоритм во 2 группе должен был повысить CTR, и в таком случае \n",
    "распределение 1 было бы сдвинуто влево, но тест не дает значимых различий в этом направлении,\n",
    "но говорит о различиях впринципе."
   ]
  },
  {
   "cell_type": "code",
   "execution_count": 29,
   "id": "0915d615-eee3-4ca4-b79f-d8bd9c67a826",
   "metadata": {},
   "outputs": [
    {
     "name": "stdout",
     "output_type": "stream",
     "text": [
      "В 44.5 % случаев A > B. Должно получиться > 50% - если наш алгоритм работает\n"
     ]
    }
   ],
   "source": [
    "# Сверим количество раз когда CTR из 2 группы больше >чем с 1\n",
    "N = 0\n",
    "for _ in range(10000):\n",
    "    N += df[df.exp_group == 2].ctr.sample().values[0] > df[df.exp_group == 1].ctr.sample().values[0]\n",
    "    \n",
    "print('В', N/100, '% случаев A > B. Должно получиться > 50% - если наш алгоритм работает')"
   ]
  },
  {
   "cell_type": "code",
   "execution_count": null,
   "id": "95e76bc2-6439-41ee-9564-f01b21358681",
   "metadata": {},
   "outputs": [],
   "source": [
    "Как видим количество больших значений из 2 группы - не достаточно для того чтоб сказать\n",
    "что наш алгоритм повышает CTR, а даже наоборот. Но учитывая вид распределения которое дает 2 группа\n",
    "(с двумя максимумами), можно предположить что по какой-то причине пользователи в выборке были разбиты на две\n",
    "группы причем у одной группы CTR стал вышекак мы  и ожидали, а у другой наоборот упал."
   ]
  },
  {
   "cell_type": "code",
   "execution_count": null,
   "id": "01cee5e9-e1b0-4005-b243-fead44692012",
   "metadata": {},
   "outputs": [],
   "source": [
    "'''\n",
    "Проблема t-теста на пользовательском CTR в том, что у нас есть пользователи с небольшим количеством просмотров,\n",
    "а их CTR сильно зашумлен.Давайте «сгладим» наши оценки CTR.\n",
    "Идея проста: когда просмотров много, сглаженный CTR почти равен CTR пользователя. Когда просмотров мало, \n",
    "сглаженный CTR почти равен общегрупповому CTR. Иначе говоря, если у пользователя много просмотров, мы можем \n",
    "быть уверены, что клики / просмотры — хорошая оценка его CTR, а когда у пользователя просмотров мало, мы \n",
    "устанавливаем в качестве оценки общегрупповой CTR.'''"
   ]
  },
  {
   "cell_type": "code",
   "execution_count": 51,
   "id": "e0b1c6b3-9e64-4039-8b42-409553ef370c",
   "metadata": {},
   "outputs": [],
   "source": [
    "# Пробуем посчитать сглаженные CTR в группах\n",
    "# возьмем умеренное значение alpha = 5\n",
    "global_ctr_2 = df[df.exp_group == 2].likes.sum()/df[df.exp_group == 2].views.sum()\n",
    "global_ctr_1 = df[df.exp_group == 1].likes.sum()/df[df.exp_group == 1].views.sum()\n",
    "# Функция для расчета сглаженного CTR\n",
    "def get_smothed_ctr(user_likes, user_views, global_ctr, alpha):\n",
    "    smothed_ctr = (user_likes + alpha * global_ctr) / (user_views + alpha)\n",
    "    return smothed_ctr\n",
    "\n",
    "group_2 = df[df.exp_group == 2].copy()\n",
    "group_1 = df[df.exp_group == 1].copy()             \n",
    "    \n",
    "group_2['smothed_ctr'] = group_2.apply(\n",
    "    lambda x: get_smothed_ctr(x['likes'], x['views'], global_ctr_2, 5), axis=1)\n",
    "             \n",
    "group_1['smothed_ctr'] = group_1.apply(\n",
    "    lambda x: get_smothed_ctr(x['likes'], x['views'], global_ctr_1, 5), axis=1)"
   ]
  },
  {
   "cell_type": "code",
   "execution_count": 52,
   "id": "34dfceb5-30d1-4af9-bc37-bf74c49d00da",
   "metadata": {},
   "outputs": [
    {
     "data": {
      "text/plain": [
       "<matplotlib.legend.Legend at 0x7f14cbb2d730>"
      ]
     },
     "execution_count": 52,
     "metadata": {},
     "output_type": "execute_result"
    },
    {
     "data": {
      "image/png": "[encoded data removed]",
      "text/plain": [
       "<Figure size 432x288 with 1 Axes>"
      ]
     },
     "metadata": {
      "needs_background": "light"
     },
     "output_type": "display_data"
    }
   ],
   "source": [
    "# Визуализация сглаженных CTR\n",
    "\n",
    "sns.histplot(data=group_1, x=group_1.smothed_ctr, label='1', color='yellow', alpha=0.7)\n",
    "sns.histplot(data=group_2, x=group_2.smothed_ctr, label='2', color='blue', alpha=0.5)\n",
    "plt.grid()\n",
    "plt.legend()"
   ]
  },
  {
   "cell_type": "code",
   "execution_count": 53,
   "id": "7737dc09-1a10-4c44-a4be-3b14d150607a",
   "metadata": {},
   "outputs": [
    {
     "name": "stdout",
     "output_type": "stream",
     "text": [
      " Smothed Statistic = -1.95, Pvalue = 0.0517\n"
     ]
    }
   ],
   "source": [
    "# Т-тест на сглаженных CTR\n",
    "stat_t, p_t = stats.ttest_ind(group_2.smothed_ctr,\n",
    "                group_1.smothed_ctr,\n",
    "                equal_var=False) \n",
    "print(f' Smothed Statistic = {stat_t:.2f}, Pvalue = {p_t:.4f}')"
   ]
  },
  {
   "cell_type": "code",
   "execution_count": null,
   "id": "f2e17483-ee55-4ddb-a970-a539822874cc",
   "metadata": {},
   "outputs": [],
   "source": [
    "После сглаживания Т-тест не дает стат значимых различий но уже не так очевидно как на не сглаженных данных"
   ]
  },
  {
   "cell_type": "code",
   "execution_count": 55,
   "id": "eb1deff0-094c-4bcf-aab9-3822d36e0509",
   "metadata": {},
   "outputs": [
    {
     "name": "stdout",
     "output_type": "stream",
     "text": [
      "two-sided Statistic = 55189913.00, Pvalue = 0.00\n",
      "less Statistic = 55189913.00, Pvalue = 1.00\n"
     ]
    }
   ],
   "source": [
    "# Мана-Уитни на сглаженных CTR\n",
    "stat_m, p_m = stats.mannwhitneyu(df[df.exp_group == 1].ctr,\n",
    "                  df[df.exp_group == 2].ctr,\n",
    "                  alternative = 'two-sided')\n",
    "stat_m1, p_m1 = stats.mannwhitneyu(df[df.exp_group == 1].ctr,\n",
    "                  df[df.exp_group == 2].ctr,\n",
    "                  alternative = 'less')\n",
    "print(f'two-sided Statistic = {stat_m:.2f}, Pvalue = {p_m:.2f}\\n'\n",
    "      f'less Statistic = {stat_m1:.2f}, Pvalue = {p_m1:.2f}')\n"
   ]
  },
  {
   "cell_type": "code",
   "execution_count": null,
   "id": "0a8e423a-8d49-4bea-b212-853e08e79da3",
   "metadata": {},
   "outputs": [],
   "source": [
    "Мана-Уитни на сглаженных CTR, дает аналогичные результаты как при обычных CTR.\n",
    "Различия между группами есть - но точно не в сторону 2 группы, чаще\n",
    "значения из 1 группы больше чем из второй"
   ]
  },
  {
   "cell_type": "code",
   "execution_count": 57,
   "id": "fb8c2b1b-61b2-4043-a618-4dbb9ca214e9",
   "metadata": {},
   "outputs": [
    {
     "name": "stdout",
     "output_type": "stream",
     "text": [
      "В 56.92% случаев 1гр > 2гр.\n"
     ]
    }
   ],
   "source": [
    "# Сверим количество раз когда CTR из 1группы больше чем во 2\n",
    "N = 0\n",
    "for _ in range(10000):\n",
    "    N += group_1.smothed_ctr.sample().values[0] > group_2.smothed_ctr.sample().values[0]\n",
    "    \n",
    "print(f'В {N/100}% случаев 1гр > 2гр.')"
   ]
  },
  {
   "cell_type": "code",
   "execution_count": null,
   "id": "a756373a-ac1c-45da-a8de-65b645ddf795",
   "metadata": {},
   "outputs": [],
   "source": [
    "Чтоб посчитать разницу в CTR между группами можно многократно брать из каждой выборки, подвыборки с возвращением\n",
    "считать в них CTR, и строить распределение таких CTR. Но можно считать сколько раз каждое конкретное наблюдение\n",
    "попадет в выборку - такая величина будет иметь Биномиальное распределение (т.е. число успехов в n испытаниях,\n",
    "в нашем примере число лайков при n просмотров свероятностью CTR)\n",
    "CTR — это отношение, а не исходная величина. Его дисперсия зависит и от лайков, и от просмотров, поэтому просто CTR\n",
    "мы не можем взять, а будем брать количество раз из Пуассоновского распределения - это будет  poisson_bootstraps\n",
    "При большом числе испытаний распределение Биномиальное стремится к Пуассоновскому, которое работает быстрее.\n",
    "Берем выборку из группы А (у нас это user\\_iduser_id с его views и clicks)\n",
    "Из распределения Пуассона генерируем «сколько раз этот пользователь попал в псевдовыборку»\n",
    "Считаем «глобальный CTR» по псевдовыборке для A\n",
    "Тоже самое считаем для гуппы В. После этого можно построить график распределения глобальных CTR,\n",
    "или каждый раз брать разницу в CTR, и визуализировать ее."
   ]
  },
  {
   "cell_type": "code",
   "execution_count": 71,
   "id": "f1b761ea-1221-4f06-9a17-4b8aab06b1d8",
   "metadata": {},
   "outputs": [
    {
     "data": {
      "text/plain": [
       "<matplotlib.legend.Legend at 0x7f14c9c09fa0>"
      ]
     },
     "execution_count": 71,
     "metadata": {},
     "output_type": "execute_result"
    },
    {
     "data": {
      "image/png": "[encoded data removed]",
      "text/plain": [
       "<Figure size 432x288 with 1 Axes>"
      ]
     },
     "metadata": {
      "needs_background": "light"
     },
     "output_type": "display_data"
    }
   ],
   "source": [
    "# Величина выборок достаточно велика (10000), вероятность попасть в выборку 1/10000\n",
    "# в таком случае используем распределение Пуассона из которого будем генерить\n",
    "# число раз попадания в выборку каждого конкретного значения\n",
    "import numpy as np\n",
    "likes2 = df[df.exp_group == 2].likes.to_numpy() # массив лайков\n",
    "views2 = df[df.exp_group == 2].views.to_numpy() # массив просмотров\n",
    "likes1 = df[df.exp_group == 1].likes.to_numpy()\n",
    "views1 = df[df.exp_group == 1].views.to_numpy()\n",
    "def bootstrap(likes2, views2, likes1, views1, n_bootstrap=2000):\n",
    "    # матрица \"n_bootstrap\" на \"len(likes2)\" - число попаданий\n",
    "    # в выборку, взятое из распр.Пуассона\n",
    "    #  При λ < 1 элементы включались бы реже, уменьшая «эффективный» размер выборки.\n",
    "    # При λ > 1 увеличилось бы число повторений, что исказило дисперсию.\n",
    "    # При λ=1 каждый элемент включается в выборку в среднем 1 раз.\n",
    "    poisson_bootstraps2 = stats.poisson(1).rvs(        \n",
    "        (n_bootstrap, len(likes2))).astype(np.int64)   \n",
    "\n",
    "    poisson_bootstraps1 = stats.poisson(1).rvs(\n",
    "            (n_bootstrap, len(likes1))).astype(np.int64)\n",
    "    \n",
    "    # каждое значение лайков множим на количество попаданий в выборку\n",
    "    # и берем сумму по строке (axis=1) - получим количество в выборке/на кол-во просмотров \n",
    "    # на выходе получаем массив CTR\n",
    "    globalCTR2 = (poisson_bootstraps2*likes2).sum(axis=1)/(poisson_bootstraps2*views2).sum(axis=1)\n",
    "    \n",
    "    globalCTR1 = (poisson_bootstraps1*likes1).sum(axis=1)/(poisson_bootstraps1*views1).sum(axis=1)\n",
    "\n",
    "    return globalCTR2, globalCTR1\n",
    "ctr2, ctr1 = bootstrap(likes2, views2, likes1, views1)\n",
    "\n",
    "sns.histplot(ctr2, label='2')\n",
    "sns.histplot(ctr1, label='1')\n",
    "plt.legend()"
   ]
  },
  {
   "cell_type": "code",
   "execution_count": null,
   "id": "40692ca5-f57f-4e2f-936d-0e16b4a82d20",
   "metadata": {},
   "outputs": [],
   "source": [
    "Бутстрап не чувствительный к форме распределения дает вполне очевидные\n",
    "различия в глобальных CTR примерно в 1%"
   ]
  },
  {
   "cell_type": "code",
   "execution_count": 7,
   "id": "73a614a6-5a78-4e3f-84fe-498dcd049910",
   "metadata": {},
   "outputs": [
    {
     "data": {
      "text/html": [
       "<div>\n",
       "<style scoped>\n",
       "    .dataframe tbody tr th:only-of-type {\n",
       "        vertical-align: middle;\n",
       "    }\n",
       "\n",
       "    .dataframe tbody tr th {\n",
       "        vertical-align: top;\n",
       "    }\n",
       "\n",
       "    .dataframe thead th {\n",
       "        text-align: right;\n",
       "    }\n",
       "</style>\n",
       "<table border=\"1\" class=\"dataframe\">\n",
       "  <thead>\n",
       "    <tr style=\"text-align: right;\">\n",
       "      <th></th>\n",
       "      <th>exp_group</th>\n",
       "      <th>bucket</th>\n",
       "      <th>bucket_ctr</th>\n",
       "    </tr>\n",
       "  </thead>\n",
       "  <tbody>\n",
       "    <tr>\n",
       "      <th>0</th>\n",
       "      <td>1</td>\n",
       "      <td>0</td>\n",
       "      <td>0.190529</td>\n",
       "    </tr>\n",
       "    <tr>\n",
       "      <th>1</th>\n",
       "      <td>1</td>\n",
       "      <td>1</td>\n",
       "      <td>0.208874</td>\n",
       "    </tr>\n",
       "    <tr>\n",
       "      <th>2</th>\n",
       "      <td>1</td>\n",
       "      <td>2</td>\n",
       "      <td>0.204165</td>\n",
       "    </tr>\n",
       "  </tbody>\n",
       "</table>\n",
       "</div>"
      ],
      "text/plain": [
       "   exp_group  bucket  bucket_ctr\n",
       "0          1       0    0.190529\n",
       "1          1       1    0.208874\n",
       "2          1       2    0.204165"
      ]
     },
     "execution_count": 7,
     "metadata": {},
     "output_type": "execute_result"
    }
   ],
   "source": [
    "# Бакетное преобразование - разбиение пользователей на 80 - групп(бакетов) случайным образом\n",
    "# используя хеширование, и посчитаем CTR для каждой группы\n",
    "q_backet = \"\"\"\n",
    "\n",
    "SELECT exp_group, bucket,\n",
    "    sum(likes)/sum(views) as bucket_ctr\n",
    "    \n",
    "FROM (SELECT exp_group, \n",
    "        xxHash64(user_id)%80 as bucket,\n",
    "        user_id,\n",
    "        sum(action = 'like') as likes,\n",
    "        sum(action = 'view') as views,\n",
    "        likes/views as ctr\n",
    "    FROM {db}.feed_actions \n",
    "    WHERE toDate(time) >= toDate('2025-01-03') and toDate(time) <= toDate('2025-01-09')\n",
    "        and exp_group in (2, 1)\n",
    "    GROUP BY exp_group, bucket, user_id)\n",
    "GROUP BY exp_group, bucket\n",
    "ORDER BY exp_group, bucket\n",
    "\"\"\"\n",
    "df_backet = ph.read_clickhouse(q_backet, connection=connection)\n",
    "df_backet.head(3)"
   ]
  },
  {
   "cell_type": "code",
   "execution_count": 15,
   "id": "5a48a7c2-8de5-40b8-a458-8e4066076f0c",
   "metadata": {},
   "outputs": [
    {
     "data": {
      "image/png": "[encoded data removed]",
      "text/plain": [
       "<Figure size 432x288 with 1 Axes>"
      ]
     },
     "metadata": {
      "needs_background": "light"
     },
     "output_type": "display_data"
    }
   ],
   "source": [
    "# Посмотрим на распределение бакетных CTR\n",
    "sns.histplot(data=df_backet, x='bucket_ctr', hue='exp_group', palette = ['y', 'b'], alpha=0.3, kde=False)\n",
    "plt.show()"
   ]
  },
  {
   "cell_type": "code",
   "execution_count": null,
   "id": "2a6580f9-5080-45f4-8033-ba2e2bce13d0",
   "metadata": {},
   "outputs": [],
   "source": [
    "Отдаленно напоминает нормальное,и при этом, вырисовываются некие различия в группах"
   ]
  },
  {
   "cell_type": "code",
   "execution_count": 18,
   "id": "dc0a266f-e078-47de-bc57-4f8238fe2162",
   "metadata": {},
   "outputs": [
    {
     "name": "stdout",
     "output_type": "stream",
     "text": [
      "Для группы 1: Statistic = 0.57, Pvalue = 0.00\n",
      "Для группы 2: Statistic = 0.57, Pvalue = 0.00\n"
     ]
    }
   ],
   "source": [
    "# Проверка на нормальность теста Колмогорова- Смирнова\n",
    "stat1_ks, p1_ks = stats.kstest(df_backet[df_backet.exp_group == 1].bucket_ctr,'norm')\n",
    "stat2_ks, p2_ks = stats.kstest(df_backet[df_backet.exp_group == 2].bucket_ctr,'norm')\n",
    "\n",
    "print(f'Для группы 1: Statistic = {stat2_ks:.2f}, Pvalue = {p2_ks:.2f}\\n'\n",
    "      f'Для группы 2: Statistic = {stat2_ks:.2f}, Pvalue = {p2_ks:.2f}')\n",
    "# Для обоих групп гипотезу о нормальности распределения - отклоняем"
   ]
  },
  {
   "cell_type": "code",
   "execution_count": 20,
   "id": "34c59d05-24e9-42e1-aa8a-42171d563153",
   "metadata": {},
   "outputs": [
    {
     "name": "stdout",
     "output_type": "stream",
     "text": [
      "Statistic = 24.12, Pvalu = 0.00\n"
     ]
    }
   ],
   "source": [
    "# Тест на равенство дисперсий- Levene\n",
    "stat_lv, p_lv = stats.levene(df_backet[df_backet.exp_group == 1].bucket_ctr,\n",
    "                             df_backet[df_backet.exp_group == 2].bucket_ctr)\n",
    "print(f'Statistic = {stat_lv:.2f}, Pvalu = {p_lv:.2f}')"
   ]
  },
  {
   "cell_type": "code",
   "execution_count": 22,
   "id": "73e8309f-cc0e-46ba-9537-22abf00339c5",
   "metadata": {},
   "outputs": [
    {
     "name": "stdout",
     "output_type": "stream",
     "text": [
      "Bucket T test: Statistic = -6.47, Pvalu = 0.00\n"
     ]
    }
   ],
   "source": [
    "# Т-тест на backet_CTR \n",
    "stat_bk, p_bk = stats.ttest_ind(df_backet[df_backet.exp_group == 2].bucket_ctr,\n",
    "                df_backet[df_backet.exp_group == 1].bucket_ctr,\n",
    "                equal_var=False) \n",
    "print(f'Bucket T test: Statistic = {stat_bk:.2f}, Pvalu = {p_bk:.2f}')"
   ]
  },
  {
   "cell_type": "code",
   "execution_count": null,
   "id": "9dc1d6f8-bc4e-4217-aa7e-dcbee4c13ebe",
   "metadata": {},
   "outputs": [],
   "source": [
    "Т-тест на бакетном преобразовании замечает различия между группами"
   ]
  },
  {
   "cell_type": "code",
   "execution_count": 24,
   "id": "d2e4f791-e437-445c-8ec7-be13d6f0d156",
   "metadata": {},
   "outputs": [
    {
     "name": "stdout",
     "output_type": "stream",
     "text": [
      "two-sided Statistic = 1532.00, Pvalue = 0.00\n",
      "less Statistic = 4868.00, Pvalue = 1.00\n"
     ]
    }
   ],
   "source": [
    "# Мана-Уитни на backet_CTR\n",
    "stat_mu1, p_mu1 = stats.mannwhitneyu(df_backet[df_backet.exp_group == 2].bucket_ctr,\n",
    "                df_backet[df_backet.exp_group == 1].bucket_ctr,\n",
    "                alternative = 'two-sided') \n",
    "stat_mu2, p_mu2 = stats.mannwhitneyu(df_backet[df_backet.exp_group == 1].bucket_ctr,\n",
    "                df_backet[df_backet.exp_group == 2].bucket_ctr,\n",
    "                alternative = 'less') \n",
    "print(f'two-sided Statistic = {stat_mu1:.2f}, Pvalue = {p_mu1:.2f}\\n'\n",
    "      f'less Statistic = {stat_mu2:.2f}, Pvalue = {p_mu2:.2f}')\n"
   ]
  },
  {
   "cell_type": "code",
   "execution_count": null,
   "id": "e437b777-0e13-4360-868f-8c4a27f6ccf3",
   "metadata": {},
   "outputs": [],
   "source": [
    "Мана-Уитни дает теже результаты - стат значимые различия между выборками\n",
    "и факт того что CTR во 2 группе НЕ стал больше чем в 1 группе, а скорее наоборот"
   ]
  },
  {
   "cell_type": "raw",
   "id": "114c8e13-ce33-4049-b76a-476cd28b9495",
   "metadata": {},
   "source": [
    "Первоначальная визуализация говорит о том что данные во 2 группе (новая лента) распределенны не нормальным образом, вероятно это могут быть группа выброса, или может внутри этой группы есть разделение по другому критерию (например мужчинам эта лента зашла - женщинам нет). Значение средного CTR в группах почти равны - визуально и математически.\n",
    "Первое проведение Т-теста говорит об отсутствии различий в средних значениях - но доверять таким данным нет смысла, средние могут и не отличаться при такой форме расрпеделения. \n",
    "Применение Т-теста на сглаженном CTR также не фиксирует различий, но уже менее очевидно Pvalue = 0.0517, но \n",
    "поскольку сглаженный CTR не имеет теоретических гарантий сохранения различий в метрике после преобразования, и\n",
    "учитывая нашу форму распределения - доверять результату не приходится.\n",
    "На бакетном преобразоввании Т-тест фиксирует различия и статистически и визуально, определенно из-за усреднения\n",
    "оценки в бакетах.\n",
    "Тест Мана-Уитни ведет себя куда более стабильно и во всех случаях фиксирует различие между группами, причем,\n",
    "противоположные ожидаемым - чаще CTR из 1 группы (контроль) оказываются больше чем во 2 (тест).\n",
    "Пуассоновский бутстрап четко фиксирует величину разброса среднего CTR в группах, и можно смело говорить\n",
    "о наличии разницы ~1%.\n",
    "Бутстрап имитирует большое количество испытаний, тем самым \"выравнивая\" наше распределение в 2 группе, и кроме того \n",
    "Выкатывать новый алгоритм ленты смысла нет - поскольку тестовая группа разбивается на две подгруппы этим алгоритмом, в одной из которых метрика падает, луче определить этот критерий разделения и исключить его."
   ]
  },
  {
   "cell_type": "code",
   "execution_count": null,
   "id": "a382cfb1-0d75-48c3-ae2a-51259def2376",
   "metadata": {},
   "outputs": [],
   "source": []
  },
  {
   "cell_type": "code",
   "execution_count": null,
   "id": "919bcaf1-c8b3-4420-a53e-e8d68a6c908a",
   "metadata": {},
   "outputs": [],
   "source": []
  }
 ],
 "metadata": {
  "kernelspec": {
   "display_name": "Python 3 (ipykernel)",
   "language": "python",
   "name": "python3"
  },
  "language_info": {
   "codemirror_mode": {
    "name": "ipython",
    "version": 3
   },
   "file_extension": ".py",
   "mimetype": "text/x-python",
   "name": "python",
   "nbconvert_exporter": "python",
   "pygments_lexer": "ipython3",
   "version": "3.8.10"
  }
 },
 "nbformat": 4,
 "nbformat_minor": 5
}

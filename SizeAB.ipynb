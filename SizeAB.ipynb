{
 "cells": [
  {
   "cell_type": "code",
   "execution_count": null,
   "id": "d59c772d-4f99-44e3-9a93-0f86be9f45df",
   "metadata": {},
   "outputs": [],
   "source": [
    " У нас имеется база данных в кикхаусе, куда ежедневно записываются данные по пользователям ленты новостей.\n",
    "Лента новостей представляет из себя посты с возможностью их просматривать, лайкать, и также отправлять сообщения\n",
    "друг другу. Действия по ленте новостей это like и view, действия по месссенджеру заполняются отдельной схемой в БД\n",
    "и включают просто сообщения, кому и когда. В целом, лента и мессенджер составляют некое приложение, которое мы \n",
    "хотим развивать, наполняя новыми пользователями и поддерживая их активность.\n",
    " Мы тестируем метрику CTR, поскольку она учитывает \"базовую\" активность (просмотры). Это делает её более надёжной \n",
    "для оценки изменений в заинтересованности, чем абсолютные значения лайков."
   ]
  },
  {
   "cell_type": "raw",
   "id": "dad063ec-a1b5-4544-b538-2bdde98548fb",
   "metadata": {},
   "source": [
    "       𝑛>[Φ^−1 *(1−𝛼) + Φ^−1 *(1−𝛽)]^2 * (𝜎x^2 + 𝜎y^2) / 𝜀^2\n",
    " Такая формула для расчета выборки часто может давать не точные или не правильные результаты.\n",
    "Формула предпологает нормальность распределений и известные дисперсии в выборках, и вообще\n",
    "использование для оценки средних или дисперсий, соответственно не подходит для непараметрических тестов\n",
    "Заранее мы можем посчитать дисперсии только до АВ теста, например, в АА тесте.\n",
    " Также если в данных есть выбросы, они могут повлиять на дисперсии, делая расчет менее надежным,\n",
    "особенно на малых выборках.Но выборки например могут быть не нормальны, хотя при побльших размераз выборки это нивелируется.\n",
    "\n",
    " Чтоб сравнить насколько хорошо и точно работает формула можно провести расчеты для\n",
    "синтетического эффекта. Возьмем ошибку 1 рода 0.05, 2 рода 0.2.\n",
    "Возьмем исходную выбороку просмотров и насэмплируем из нее многоо выборок для теста.\n",
    "Возьмем исходную выбороку CTR, насэмплируем много выборок без дополниельных изменений CTR,\n",
    "а также выборки с синтетическим эффектом - на уровень который мы бы хотели заметить в будующем AB.\n",
    "А число лайков мы сэмплируем как биномиальное распределение просмотров с вероятностью CTR\n",
    "like = Binomial(view, CTR) - так получаем две группы с изменениями и без.\n",
    "Получаем две группы CTR с изменениями и без как like/view подставляя наши распределения. \n",
    "\n",
    " Моделирование через биномиальное распределение позволяет учесть вариабельность того, что разные пользователи лайкают разные посты по разному, что критично для оценки мощности теста.Если просто умножить CTR на эффект, мы игнорируем случайную природу лайков.\n",
    " Если эффект зависит от поведения пользователей (например, активные пользователи сильнее реагируют на изменение), это нельзя смоделировать на уровне CTR. CTR — это агрегированная метрика, но вариация в просмотрах влияет на дисперсию CTR. Кроме того лайки это целые числа, и генерация их из биномиального распределения, позволит\n",
    "получить целое число и учесть индивидуальность каждого пользователя\n",
    " Зная, что мы должны замечать эффект в синтетическом АВ тесте (1-0.2 = 0.8 *100% ) в 80%, мы можем \n",
    "проводить его много раз , учитывая что эффект есть (мы его синтетически ввели) и считать процент таких экспериментов, если он ниже, корректировать размер выборки.Такой подход называется метод Монте-Карло.\n",
    "Ниже мы реализуем его и сравним результаты с обычной формулой\n"
   ]
  },
  {
   "cell_type": "code",
   "execution_count": 1,
   "id": "95a3e3be-15e4-4e63-b893-a504c2f8496e",
   "metadata": {},
   "outputs": [],
   "source": [
    "# Импортируем все необходимое\n",
    "from scipy import stats\n",
    "import pandahouse as ph\n",
    "import pandas as pd\n",
    "import seaborn as sns\n",
    "import matplotlib.pyplot as plt\n",
    "import numpy as np\n",
    "\n",
    "from scipy.stats import norm, ttest_ind\n",
    "# Создаём генератор псевдослучайных чисел\n",
    "rng = np.random.default_rng() "
   ]
  },
  {
   "cell_type": "code",
   "execution_count": 2,
   "id": "7aca6979-941b-497a-90eb-75979012925c",
   "metadata": {},
   "outputs": [],
   "source": [
    "# Стандартная формула расчета размера выборки пригодится нам для сравненеия\n",
    "# округляется вверх (np.ceil) до целого числа.\n",
    "# Обратная функция нормального распределения, это функция, которая для вероятности p возвращает значение Z\n",
    "# p(Z<=значение) = p.\n",
    "# -1 это математическое обозначение обратной функции (не степень)\n",
    "# norm.ppf(p) — это функция, возвращающая квантиль(Z значение) для вероятности p \n",
    "def compute_sample_size_abs(epsilon, std1, std2, alpha=0.05, beta=0.2):\n",
    "    t_alpha = norm.ppf(1 - alpha / 2, loc=0, scale=1) # Z-оценка для двустороннего теста\n",
    "    t_beta = norm.ppf(1 - beta, loc=0, scale=1)  #  Z-оценка для мощности\n",
    "    z_scores_sum_squared = (t_alpha + t_beta) ** 2 \n",
    "    sample_size = int(                                   # сумма дисперсий  \n",
    "        np.ceil(z_scores_sum_squared * (std1 ** 2 + std2 ** 2) / (epsilon ** 2))  #детектируемый эффект\n",
    "    )\n",
    "    return sample_size"
   ]
  },
  {
   "cell_type": "code",
   "execution_count": 2,
   "id": "8f92ce59-e2a6-4307-9e0d-2b6e2483a4ad",
   "metadata": {},
   "outputs": [],
   "source": [
    "#  Соединяемся с кликхаус\n",
    "connection = {\n",
    "    'host': 'https://clickhouse.lab.karpov.courses',\n",
    "    'database':'simulator_20250120',\n",
    "    'user':'student',\n",
    "    'password':'dpo_python_2020'}\n",
    "# Получим запрос который для каждого количества просмотров покажет - сколько пользователей имеют\n",
    "# именно такое количество\n",
    "q = \"\"\"\n",
    "SELECT views, count() as users\n",
    "FROM(SELECT\n",
    "    user_id,\n",
    "    sum(action = 'view') as views\n",
    "    FROM {db}.feed_actions \n",
    "    WHERE toDate(time) >= toDate('2024-12-27') and toDate(time) <= toDate('2025-01-02')\n",
    "    GROUP BY user_id)\n",
    "group by views\n",
    "order by views\n",
    "\"\"\"\n",
    "# Запрос исходной таблицы из БД для понимания структуры таблицы\n",
    "q_table = \"\"\"\n",
    "SELECT *\n",
    "FROM {db}.feed_actions \n",
    "WHERE toDate(time) >= toDate('2025-01-03') and toDate(time) <= toDate('2025-01-04')\"\"\""
   ]
  },
  {
   "cell_type": "code",
   "execution_count": 3,
   "id": "10f403e6-b2bc-4f56-9b74-277dcbb7d1c5",
   "metadata": {},
   "outputs": [
    {
     "data": {
      "text/html": [
       "<div>\n",
       "<style scoped>\n",
       "    .dataframe tbody tr th:only-of-type {\n",
       "        vertical-align: middle;\n",
       "    }\n",
       "\n",
       "    .dataframe tbody tr th {\n",
       "        vertical-align: top;\n",
       "    }\n",
       "\n",
       "    .dataframe thead th {\n",
       "        text-align: right;\n",
       "    }\n",
       "</style>\n",
       "<table border=\"1\" class=\"dataframe\">\n",
       "  <thead>\n",
       "    <tr style=\"text-align: right;\">\n",
       "      <th></th>\n",
       "      <th>user_id</th>\n",
       "      <th>post_id</th>\n",
       "      <th>action</th>\n",
       "      <th>time</th>\n",
       "      <th>gender</th>\n",
       "      <th>age</th>\n",
       "      <th>country</th>\n",
       "      <th>city</th>\n",
       "      <th>os</th>\n",
       "      <th>source</th>\n",
       "      <th>exp_group</th>\n",
       "    </tr>\n",
       "  </thead>\n",
       "  <tbody>\n",
       "    <tr>\n",
       "      <th>0</th>\n",
       "      <td>123767</td>\n",
       "      <td>2040</td>\n",
       "      <td>view</td>\n",
       "      <td>2025-01-04 20:06:53</td>\n",
       "      <td>1</td>\n",
       "      <td>21</td>\n",
       "      <td>Russia</td>\n",
       "      <td>Samara</td>\n",
       "      <td>Android</td>\n",
       "      <td>organic</td>\n",
       "      <td>1</td>\n",
       "    </tr>\n",
       "    <tr>\n",
       "      <th>1</th>\n",
       "      <td>129655</td>\n",
       "      <td>2116</td>\n",
       "      <td>view</td>\n",
       "      <td>2025-01-04 20:06:53</td>\n",
       "      <td>0</td>\n",
       "      <td>26</td>\n",
       "      <td>Russia</td>\n",
       "      <td>Saint Petersburg</td>\n",
       "      <td>iOS</td>\n",
       "      <td>organic</td>\n",
       "      <td>4</td>\n",
       "    </tr>\n",
       "    <tr>\n",
       "      <th>2</th>\n",
       "      <td>131026</td>\n",
       "      <td>2095</td>\n",
       "      <td>view</td>\n",
       "      <td>2025-01-04 20:06:53</td>\n",
       "      <td>1</td>\n",
       "      <td>22</td>\n",
       "      <td>Russia</td>\n",
       "      <td>Moscow</td>\n",
       "      <td>Android</td>\n",
       "      <td>organic</td>\n",
       "      <td>4</td>\n",
       "    </tr>\n",
       "    <tr>\n",
       "      <th>3</th>\n",
       "      <td>28786</td>\n",
       "      <td>2167</td>\n",
       "      <td>view</td>\n",
       "      <td>2025-01-04 20:06:54</td>\n",
       "      <td>1</td>\n",
       "      <td>16</td>\n",
       "      <td>Russia</td>\n",
       "      <td>Moscow</td>\n",
       "      <td>iOS</td>\n",
       "      <td>ads</td>\n",
       "      <td>2</td>\n",
       "    </tr>\n",
       "    <tr>\n",
       "      <th>4</th>\n",
       "      <td>131026</td>\n",
       "      <td>2048</td>\n",
       "      <td>view</td>\n",
       "      <td>2025-01-04 20:06:54</td>\n",
       "      <td>1</td>\n",
       "      <td>22</td>\n",
       "      <td>Russia</td>\n",
       "      <td>Moscow</td>\n",
       "      <td>Android</td>\n",
       "      <td>organic</td>\n",
       "      <td>4</td>\n",
       "    </tr>\n",
       "  </tbody>\n",
       "</table>\n",
       "</div>"
      ],
      "text/plain": [
       "   user_id  post_id action                time  gender  age country  \\\n",
       "0   123767     2040   view 2025-01-04 20:06:53       1   21  Russia   \n",
       "1   129655     2116   view 2025-01-04 20:06:53       0   26  Russia   \n",
       "2   131026     2095   view 2025-01-04 20:06:53       1   22  Russia   \n",
       "3    28786     2167   view 2025-01-04 20:06:54       1   16  Russia   \n",
       "4   131026     2048   view 2025-01-04 20:06:54       1   22  Russia   \n",
       "\n",
       "               city       os   source  exp_group  \n",
       "0            Samara  Android  organic          1  \n",
       "1  Saint Petersburg      iOS  organic          4  \n",
       "2            Moscow  Android  organic          4  \n",
       "3            Moscow      iOS      ads          2  \n",
       "4            Moscow  Android  organic          4  "
      ]
     },
     "execution_count": 3,
     "metadata": {},
     "output_type": "execute_result"
    }
   ],
   "source": [
    "# Наша исходная таблица со всеми данными по каждому пользователю и группой exp_group\n",
    "df_table = ph.read_clickhouse(q_table, connection=connection)\n",
    "df_table.head(5)"
   ]
  },
  {
   "cell_type": "code",
   "execution_count": 4,
   "id": "453ad0cb-9c90-4ad3-8d80-31793d56cb1c",
   "metadata": {},
   "outputs": [
    {
     "data": {
      "text/html": [
       "<div>\n",
       "<style scoped>\n",
       "    .dataframe tbody tr th:only-of-type {\n",
       "        vertical-align: middle;\n",
       "    }\n",
       "\n",
       "    .dataframe tbody tr th {\n",
       "        vertical-align: top;\n",
       "    }\n",
       "\n",
       "    .dataframe thead th {\n",
       "        text-align: right;\n",
       "    }\n",
       "</style>\n",
       "<table border=\"1\" class=\"dataframe\">\n",
       "  <thead>\n",
       "    <tr style=\"text-align: right;\">\n",
       "      <th></th>\n",
       "      <th>views</th>\n",
       "      <th>users</th>\n",
       "    </tr>\n",
       "  </thead>\n",
       "  <tbody>\n",
       "    <tr>\n",
       "      <th>0</th>\n",
       "      <td>1</td>\n",
       "      <td>4</td>\n",
       "    </tr>\n",
       "    <tr>\n",
       "      <th>1</th>\n",
       "      <td>2</td>\n",
       "      <td>1</td>\n",
       "    </tr>\n",
       "    <tr>\n",
       "      <th>2</th>\n",
       "      <td>3</td>\n",
       "      <td>4</td>\n",
       "    </tr>\n",
       "    <tr>\n",
       "      <th>3</th>\n",
       "      <td>4</td>\n",
       "      <td>5</td>\n",
       "    </tr>\n",
       "  </tbody>\n",
       "</table>\n",
       "</div>"
      ],
      "text/plain": [
       "   views  users\n",
       "0      1      4\n",
       "1      2      1\n",
       "2      3      4\n",
       "3      4      5"
      ]
     },
     "execution_count": 4,
     "metadata": {},
     "output_type": "execute_result"
    }
   ],
   "source": [
    "views_distribution = ph.read_clickhouse(q, connection=connection)\n",
    "# Распределение просмотров по количеству пользователей\n",
    "views_distribution.head(4)"
   ]
  },
  {
   "cell_type": "code",
   "execution_count": 4,
   "id": "8b15d324-6ec0-435d-98c5-2cef7c7d0438",
   "metadata": {},
   "outputs": [
    {
     "data": {
      "text/html": [
       "<div>\n",
       "<style scoped>\n",
       "    .dataframe tbody tr th:only-of-type {\n",
       "        vertical-align: middle;\n",
       "    }\n",
       "\n",
       "    .dataframe tbody tr th {\n",
       "        vertical-align: top;\n",
       "    }\n",
       "\n",
       "    .dataframe thead th {\n",
       "        text-align: right;\n",
       "    }\n",
       "</style>\n",
       "<table border=\"1\" class=\"dataframe\">\n",
       "  <thead>\n",
       "    <tr style=\"text-align: right;\">\n",
       "      <th></th>\n",
       "      <th>views</th>\n",
       "      <th>users</th>\n",
       "      <th>p</th>\n",
       "    </tr>\n",
       "  </thead>\n",
       "  <tbody>\n",
       "    <tr>\n",
       "      <th>0</th>\n",
       "      <td>1</td>\n",
       "      <td>4</td>\n",
       "      <td>0.000095</td>\n",
       "    </tr>\n",
       "    <tr>\n",
       "      <th>1</th>\n",
       "      <td>2</td>\n",
       "      <td>1</td>\n",
       "      <td>0.000024</td>\n",
       "    </tr>\n",
       "    <tr>\n",
       "      <th>2</th>\n",
       "      <td>3</td>\n",
       "      <td>4</td>\n",
       "      <td>0.000095</td>\n",
       "    </tr>\n",
       "    <tr>\n",
       "      <th>3</th>\n",
       "      <td>4</td>\n",
       "      <td>5</td>\n",
       "      <td>0.000119</td>\n",
       "    </tr>\n",
       "    <tr>\n",
       "      <th>4</th>\n",
       "      <td>5</td>\n",
       "      <td>18</td>\n",
       "      <td>0.000429</td>\n",
       "    </tr>\n",
       "  </tbody>\n",
       "</table>\n",
       "</div>"
      ],
      "text/plain": [
       "   views  users         p\n",
       "0      1      4  0.000095\n",
       "1      2      1  0.000024\n",
       "2      3      4  0.000095\n",
       "3      4      5  0.000119\n",
       "4      5     18  0.000429"
      ]
     },
     "execution_count": 4,
     "metadata": {},
     "output_type": "execute_result"
    }
   ],
   "source": [
    "# Нормируем распределение поделив каждое количество (пользователей) на общую сумму\n",
    "# получив вероятность появления такого события для каждого\n",
    "views_distribution.users.sum()\n",
    "views_distribution['p'] = views_distribution['users']/views_distribution.users.sum()\n",
    "views_distribution.head(5)"
   ]
  },
  {
   "cell_type": "code",
   "execution_count": 5,
   "id": "65df89a1-ec72-4bab-9475-ff69ef94de7b",
   "metadata": {},
   "outputs": [],
   "source": [
    "# Дискретное распределение описывает вероятности 'p' исходов для дискретной (1,2,3..)  величины 'views'\n",
    "# views_distr - это будет объект дискретного распределения из которого можно генерировать выборки с помощью rvs\n",
    "# Нормировка гарантирует, что сумма всех вероятностей равна 1. \n",
    "# Это необходимо чтоб просмотры отбирались НЕ равновероятно, а в соответствии с их 'p' - что сохранить\n",
    "# репрезентативность выборки\n",
    "views_distr = stats.rv_discrete(name='views_distr', \n",
    "                                values=(views_distribution['views'], \n",
    "                                        views_distribution['p']))"
   ]
  },
  {
   "cell_type": "code",
   "execution_count": 6,
   "id": "1e2a032d-940c-47d5-a337-3414002bca5d",
   "metadata": {},
   "outputs": [
    {
     "data": {
      "image/png": "[encoded data removed]",
      "text/plain": [
       "<Figure size 432x288 with 1 Axes>"
      ]
     },
     "metadata": {
      "needs_background": "light"
     },
     "output_type": "display_data"
    }
   ],
   "source": [
    "# Посмотрим на наше дискретное распределение просмотров\n",
    "sns.histplot(views_distr.rvs(size=2000))\n",
    "plt.show()"
   ]
  },
  {
   "cell_type": "code",
   "execution_count": 7,
   "id": "17bb071a-f618-402f-8e22-f8ebb78a66d9",
   "metadata": {},
   "outputs": [
    {
     "name": "stdout",
     "output_type": "stream",
     "text": [
      "mean = 70.30916494035289, med = 60.0, std = 46.795649294309676\n"
     ]
    }
   ],
   "source": [
    "# Среднее, медиана и стандартное отклонение для выборки просмотров размера 2000\n",
    "mean = views_distr.mean() \n",
    "med = views_distr.median()\n",
    "std_view = views_distr.std()\n",
    "print(f'mean = {mean}, med = {med}, std = {std_view}')"
   ]
  },
  {
   "cell_type": "code",
   "execution_count": null,
   "id": "51431724-e4a1-45e3-805d-b2a4e0660973",
   "metadata": {},
   "outputs": [],
   "source": [
    "CRT достаем по дням (Потому что CTR зависит не только от желания пользователя ставить лайки на посты.\n",
    "Он ещё зависит от качества самих постов - в некоторые дни посты оказываются лучше обычного, и пользователи\n",
    "начинают их прилично лайкать. А в другие дни посты плохие, и пользователи лайкают их меньше - даже если в \n",
    "среднем их тенденция ставить лайки высокая) подсказка"
   ]
  },
  {
   "cell_type": "code",
   "execution_count": 7,
   "id": "bc24cb57-287b-4d40-9c0e-012fa90ab3e6",
   "metadata": {},
   "outputs": [
    {
     "data": {
      "text/html": [
       "<div>\n",
       "<style scoped>\n",
       "    .dataframe tbody tr th:only-of-type {\n",
       "        vertical-align: middle;\n",
       "    }\n",
       "\n",
       "    .dataframe tbody tr th {\n",
       "        vertical-align: top;\n",
       "    }\n",
       "\n",
       "    .dataframe thead th {\n",
       "        text-align: right;\n",
       "    }\n",
       "</style>\n",
       "<table border=\"1\" class=\"dataframe\">\n",
       "  <thead>\n",
       "    <tr style=\"text-align: right;\">\n",
       "      <th></th>\n",
       "      <th>ctr</th>\n",
       "      <th>users</th>\n",
       "    </tr>\n",
       "  </thead>\n",
       "  <tbody>\n",
       "    <tr>\n",
       "      <th>0</th>\n",
       "      <td>0.02</td>\n",
       "      <td>48</td>\n",
       "    </tr>\n",
       "    <tr>\n",
       "      <th>1</th>\n",
       "      <td>0.03</td>\n",
       "      <td>142</td>\n",
       "    </tr>\n",
       "    <tr>\n",
       "      <th>2</th>\n",
       "      <td>0.04</td>\n",
       "      <td>312</td>\n",
       "    </tr>\n",
       "  </tbody>\n",
       "</table>\n",
       "</div>"
      ],
      "text/plain": [
       "    ctr  users\n",
       "0  0.02     48\n",
       "1  0.03    142\n",
       "2  0.04    312"
      ]
     },
     "execution_count": 7,
     "metadata": {},
     "output_type": "execute_result"
    }
   ],
   "source": [
    "# Запрос в кликхаус CTR на пользователя по дням - в подзапросе\n",
    "# и после достаем распределение CTR по количеству пользователей\n",
    "q = \"\"\"\n",
    "SELECT floor(ctr, 2) as ctr, count() as users\n",
    "FROM(SELECT toDate(time) as dt,\n",
    "    user_id,\n",
    "    sum(action = 'like')/sum(action = 'view') as ctr\n",
    "    FROM {db}.feed_actions \n",
    "    WHERE toDate(time) >= toDate('2024-12-27') and toDate(time) <= toDate('2025-01-02')\n",
    "    GROUP BY user_id, dt\n",
    "    HAVING sum(action = 'view') != 0 and sum(action = 'like') != 0)\n",
    "group by ctr\n",
    "order by ctr\n",
    "\"\"\"\n",
    "\n",
    "\n",
    "ctr_distribution = ph.read_clickhouse(q, connection=connection)\n",
    "ctr_distribution.head(3)                     "
   ]
  },
  {
   "cell_type": "code",
   "execution_count": 8,
   "id": "f1bae6a3-fb49-4cb6-9389-fa7f2f05a360",
   "metadata": {},
   "outputs": [],
   "source": [
    "# Нормируем CTR\n",
    "ctr_distribution['p'] = ctr_distribution['users']/ctr_distribution.users.sum()\n",
    "ctr_distribution.sort_values(by = 'p', ascending = False)\n",
    "\n",
    "# Создаём распределение, где каждому индексу соответствует своя вероятность\n",
    "# поскольку CTR не целые числа, работаем через индексы. Метод rv_discrete работает с целым значением\n",
    "probabilities = ctr_distribution['p']\n",
    "values = ctr_distribution['ctr']\n",
    "distrib = stats.rv_discrete(values=(range(len(probabilities)), probabilities)) # Распределение индексов 'ctr'\n",
    "\n",
    "# Функция подставит соответствующие индексам CTR \n",
    "# Далее мы будем генерить выборки для просмотров и CTR\n",
    "# т.к тут работаем с индексами сделаем функцию которая сразу будет нам создавать\n",
    "# необходимый массив\n",
    "def get_ctrs(x, y, distrib, values): \n",
    "    idx = distrib.rvs(size=x*y)         # Генерирует массив индексов длины x*y согласно распределению distrib\n",
    "    result = values[idx]                # Берем занчения CTR\n",
    "    return np.array(result).reshape(x,y)\n"
   ]
  },
  {
   "cell_type": "code",
   "execution_count": null,
   "id": "1d9c51e3-2b82-437b-98c5-9e35c378c26c",
   "metadata": {},
   "outputs": [],
   "source": [
    "# Через numpy можно применять в том числе и на дробных значениях\n",
    "# rng.choice(значения_метрики, size=(количество_симуляций, размер_выборки), \n",
    "#             replace=True, p=относительные_частоты)"
   ]
  },
  {
   "cell_type": "code",
   "execution_count": 9,
   "id": "6d7cb386-3239-41ea-9854-f9c34c4355b7",
   "metadata": {},
   "outputs": [
    {
     "data": {
      "image/png": "[encoded data removed]",
      "text/plain": [
       "<Figure size 432x288 with 1 Axes>"
      ]
     },
     "metadata": {
      "needs_background": "light"
     },
     "output_type": "display_data"
    }
   ],
   "source": [
    "# Распределение сэмплированных CTR\n",
    "sns.histplot(values[distrib.rvs(size=2000)])\n",
    "plt.show()"
   ]
  },
  {
   "cell_type": "code",
   "execution_count": 54,
   "id": "80f3abcf-447e-42cf-a4f0-3686895ab073",
   "metadata": {},
   "outputs": [],
   "source": []
  },
  {
   "cell_type": "code",
   "execution_count": 10,
   "id": "6793cce8-ef05-4c32-9af2-9c5232954a1d",
   "metadata": {},
   "outputs": [
    {
     "data": {
      "text/plain": [
       "0.0984458178473161"
      ]
     },
     "execution_count": 10,
     "metadata": {},
     "output_type": "execute_result"
    }
   ],
   "source": [
    "# Сделаем запрос чтоб получить стандартное отклонение ctr для наших выборок\n",
    "q = \"\"\"\n",
    "select \n",
    "   stddevPop(ctr) as ctr_std\n",
    "from (select toDate(time) as dt, \n",
    "      exp_group,\n",
    "      user_id,\n",
    "      sum(action = 'like')/sum(action = 'view') as ctr\n",
    "      from {db}.feed_actions\n",
    "      where dt between '2024-12-27' and '2025-01-02'\n",
    "      and exp_group in (0,1,2,3,4)\n",
    "      group by dt, exp_group, user_id)\n",
    "\"\"\"\n",
    "\n",
    "std_ctr = ph.read_clickhouse(q, connection=connection).values[0][0]\n",
    "std_ctr"
   ]
  },
  {
   "cell_type": "code",
   "execution_count": 12,
   "id": "d66021db-05bd-4cec-be52-e3b826901b2e",
   "metadata": {},
   "outputs": [
    {
     "data": {
      "text/plain": [
       "1522"
      ]
     },
     "execution_count": 12,
     "metadata": {},
     "output_type": "execute_result"
    }
   ],
   "source": [
    "# Посмотрим какой размер выборки дает нам формула примерно, чтоб видеть от чего оттолкнуться\n",
    "# Размер эффекта который мы хотим детектировать возьмем 0.01\n",
    "compute_sample_size_abs(0.01, std_ctr, std_ctr)"
   ]
  },
  {
   "cell_type": "code",
   "execution_count": null,
   "id": "7d29ea43-db63-4b55-b699-c944705cdff2",
   "metadata": {},
   "outputs": [],
   "source": [
    "Делаем выборки для просмотров и CTR (один из которых меняем на величину эффекта)\n",
    "Распределение лайков получаем как биномиальное от просмотров и CTR\n",
    "мы хотим заметить изменения в 0.01 а среднее CTR=0.21 значит умножить исходное надо на 0,01/0,21 = 1.05\n",
    " .astype(\"int32\") может округлять дробные значения до 0 - np.maximum заменит на 1"
   ]
  },
  {
   "cell_type": "code",
   "execution_count": 13,
   "id": "03ffad5c-3856-4116-8f7f-424f04acfc0d",
   "metadata": {},
   "outputs": [],
   "source": [
    "group_A_views = views_distr.rvs(size = (2000, 1600)) \n",
    "group_A_views = np.maximum(group_A_views, 1).astype(\"int32\")   # Замена  0 на 1. сравнивает каждое значение массива \n",
    "group_B_views = views_distr.rvs(size = (2000, 1600))           # с 1 и берет большее\n",
    "group_B_views = np.maximum(group_B_views, 1).astype(\"int32\")   # Замена  0 на 1\n",
    "# Генерация CTR с ограничением до 1.0\n",
    "group_A_ctr = np.minimum(get_ctrs(2000, 1600, distrib, values) * 1.05, 1.0) '''Вводим синтетический эффект'''\n",
    "group_B_ctr = get_ctrs(2000, 1600, distrib, values) \n",
    "\n",
    "# Генерация лайков\n",
    "clicks_A = stats.binom.rvs(n=group_A_views, p=group_A_ctr)\n",
    "clicks_B = stats.binom.rvs(n=group_B_views, p=group_B_ctr)"
   ]
  },
  {
   "cell_type": "code",
   "execution_count": 14,
   "id": "0ee73133-cfcf-4af9-8aaf-2066526684ec",
   "metadata": {},
   "outputs": [],
   "source": [
    "# zip(a, b) создает пары вида (a[i], b[i]) - 2000 кортежей по 1600 пар значений в каждом\n",
    "# x[0], x[1] - это будет соответственно a[i] b[i] массивы выборок\n",
    "# Получим массив из 2000 pvalue\n",
    "def t_test(a, b):\n",
    "    \"\"\"\n",
    "    Считает p-value для t-теста с двусторонней альтернативой \n",
    "    :param a: np.array вида (n_experiments, n_users), значения метрик в контрольных группах\n",
    "    :param b: np.array вида (n_experiments, n_users), значения метрик в тестовых группах\n",
    "    :return: np.array вида (n_experiments), посчитанные p-value t-теста для всего списка экспериментов\n",
    "    \"\"\"\n",
    "    result = list(map(lambda x: stats.ttest_ind(x[0], x[1], equal_var=False).pvalue, zip(a, b)))\n",
    "    return np.array(result)"
   ]
  },
  {
   "cell_type": "code",
   "execution_count": 15,
   "id": "572fed03-ae3b-4ff4-b8b3-7bbf444ac1eb",
   "metadata": {},
   "outputs": [
    {
     "data": {
      "text/plain": [
       "0.741"
      ]
     },
     "execution_count": 15,
     "metadata": {},
     "output_type": "execute_result"
    }
   ],
   "source": [
    "# По умолчанию (axis=0) функция сравнивает столбцы массивов\n",
    "# Смотрим процент успешных срабатываний (должен быть > 80%)\n",
    "np.sum(t_test(clicks_A/group_A_views, clicks_B/group_B_views)<= 0.05)/2000"
   ]
  },
  {
   "cell_type": "code",
   "execution_count": null,
   "id": "acd7f833-9116-4c49-a97e-bb3c9953794a",
   "metadata": {},
   "outputs": [],
   "source": [
    "Для точного расчета обычная формула (1522 пользователя) не добирает необходимое количество пользователей \n",
    "для заданной мощности, поскольку симуляция на размере выборки 1600 дает только 74% мощности"
   ]
  },
  {
   "cell_type": "code",
   "execution_count": 33,
   "id": "2c4807a9-cab4-4040-b0ee-69e4da1a1113",
   "metadata": {},
   "outputs": [],
   "source": [
    "# Выразим из формулы размера выборки - мощность power \n",
    "# И напишем фукнцию котороя будет считать мощность от размера выборки т.е. просто подсчет наоборот\n",
    "def compute_power(epsilon, std1, std2, N, alpha=0.05):\n",
    "    z_alpha = norm.ppf(1 - alpha/2)  # Квантиль для двустороннего теста\n",
    "    \n",
    "    # Вычисляем Z-скор для мощности\n",
    "    z_power = (np.sqrt(N) * epsilon) / np.sqrt(std1**2 + std2**2) - z_alpha\n",
    "    \n",
    "    # Преобразуем Z-скор в вероятность (мощность)\n",
    "    power = norm.cdf(z_power)    \n",
    "    return power"
   ]
  },
  {
   "cell_type": "code",
   "execution_count": 40,
   "id": "5887265a-62e4-4cb1-86da-09cb804d89ac",
   "metadata": {},
   "outputs": [
    {
     "name": "stderr",
     "output_type": "stream",
     "text": [
      "100%|██████████| 12/12 [00:33<00:00,  2.80s/it]\n"
     ]
    },
    {
     "data": {
      "image/png": "[encoded data removed]",
      "text/plain": [
       "<Figure size 576x360 with 1 Axes>"
      ]
     },
     "metadata": {
      "needs_background": "light"
     },
     "output_type": "display_data"
    }
   ],
   "source": [
    "# Сделаем цикл в который будем передовать последовательно размер выборки и фиксировать\n",
    "# мощность от формулы и от генерации Монте-Карло, чтоб построить график\n",
    "from tqdm import tqdm # Для наблюдения за процессом работы\n",
    "alpha = 0.05\n",
    "epsilon = 0.01  # Размер эффекта (пример)\n",
    "std1 = 0.098      # Стандартное отклонение группы A (пример)\n",
    "std2 = 0.098      # Стандартное отклонение группы B (пример)\n",
    "sample_size = np.arange(1400, 2000, 50) # Начнем с размера выборки 1400 и до 2000 шаг 50\n",
    "formula = []\n",
    "simulation = []\n",
    "for N in tqdm(sample_size):\n",
    "    formula_power = compute_power(epsilon, std1, std2, N, alpha=0.05)\n",
    "    formula.append(formula_power)\n",
    "    group_A_views = views_distr.rvs(size = (1000, N)) \n",
    "    group_A_views = np.maximum(group_A_views, 1).astype(\"int32\")   # Замена  0 на 1\n",
    "    group_B_views = views_distr.rvs(size = (1000, N))\n",
    "    group_B_views = np.maximum(group_B_views, 1).astype(\"int32\")   # Замена  0 на 1\n",
    "    # Генерация CTR с ограничением до 1.0\n",
    "    # get_ctrs генерирует массив индексов длины x*y согласно распределению distrib\n",
    "    group_A_ctr = np.minimum(get_ctrs(1000, N, distrib, values) * 1.05, 1.0)\n",
    "    group_B_ctr = get_ctrs(1000, N, distrib, values)\n",
    "    # Генерация лайков\n",
    "    clicks_A = stats.binom.rvs(n=group_A_views, p=group_A_ctr)\n",
    "    clicks_B = stats.binom.rvs(n=group_B_views, p=group_B_ctr)\n",
    "    mk_power = np.sum(t_test(clicks_A/group_A_views, clicks_B/group_B_views)<= 0.05)/1000\n",
    "    simulation.append(mk_power)\n",
    "    \n",
    "plt.figure(figsize=(5, 3))\n",
    "plt.plot(sample_size, formula, label='Формула', marker='o')\n",
    "plt.plot(sample_size, simulation, label='Симуляция', marker='x')\n",
    "plt.xlabel('Размер выборки')\n",
    "plt.ylabel('Мощность')\n",
    "plt.title('Зависимость мощности от размера выборки')\n",
    "plt.legend()\n",
    "plt.grid(True)\n",
    "plt.show()    "
   ]
  },
  {
   "cell_type": "code",
   "execution_count": null,
   "id": "2774edcd-b993-4e82-beab-b68a51a2e094",
   "metadata": {},
   "outputs": [],
   "source": [
    "Видим что заданая мощность достигается быстрее на расчетах из обычной формулы, а для Монте-Карло гараздо позднее.\n",
    "Обращаем внимание что размер выборки посчитан на данных, за определенное время (неделя)\n",
    "значит и сам тест должен включать данные за неделю, чтоб заметить нужный эффект с нужной мощностью.\n",
    "Кроме того стоит заметить что мы вводим синтетический эффект равномерно на кождый CTR! Но в реальности\n",
    "не все метрики будут изменяться вот так равномерно, поэтому возможно нужно будет подумать что и как измерять\n",
    "для расчета размера выборки."
   ]
  }
 ],
 "metadata": {
  "kernelspec": {
   "display_name": "Python 3 (ipykernel)",
   "language": "python",
   "name": "python3"
  },
  "language_info": {
   "codemirror_mode": {
    "name": "ipython",
    "version": 3
   },
   "file_extension": ".py",
   "mimetype": "text/x-python",
   "name": "python",
   "nbconvert_exporter": "python",
   "pygments_lexer": "ipython3",
   "version": "3.8.10"
  }
 },
 "nbformat": 4,
 "nbformat_minor": 5
}

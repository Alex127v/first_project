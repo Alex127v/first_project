{
 "cells": [
  {
   "cell_type": "code",
   "execution_count": null,
   "id": "200274d3-d286-44bf-bc24-fc99f161fd4c",
   "metadata": {},
   "outputs": [],
   "source": [
    " У нас имеется база данных в кикхаусе, куда ежедневно записываются данные по пользователям ленты новостей.\n",
    "Лента новостей представляет из себя посты с возможностью их просматривать, лайкать, и также отправлять сообщения\n",
    "друг другу. Действия по ленте новостей это like и view, действия по месссенджеру заполняются отдельной схемой в БД\n",
    "и включают просто сообщения, кому и когда. В целом, лента и мессенджер составляют некое приложение, которое мы \n",
    "хотим развивать, наполняя новыми пользователями и поддерживая их активность."
   ]
  },
  {
   "cell_type": "code",
   "execution_count": null,
   "id": "c7278564-338d-41d7-be8f-042f70fcc097",
   "metadata": {},
   "outputs": [],
   "source": [
    "'''К нам пришли наши коллеги из ML-отдела и рассказали, что планируют выкатывать новый алгоритм, рекомендующий\n",
    "нашим пользователям интересные посты.\n",
    "\n",
    "1.Алгоритм добавляет пользователям 1-2 просмотра\n",
    "2.Вероятность того, что он сработает, составляет 90%\n",
    "3.Если у пользователя меньше 50 просмотров, то алгоритм не сработает\n",
    "\n",
    "Вы предполагаете, что увеличение числа просмотров приведёт и к увеличению лайков на пользователя.\n",
    "Встаёт вопрос: сможем ли мы обнаружить различия в среднем количестве лайков на пользователя?\n",
    "Чтобы ответить на этот вопрос,проведём симуляцию Монте-Карло.\n",
    "\n",
    "\n",
    "Распределения, из которых мы будем симулировать просмотры и пользовательские CTR, мы построим \n",
    "на основе периода АА-теста '2024-12-27' по '2025-01-02'. \n",
    "\n",
    "На эксперимент нам выделили неделю. Допустим, что за эту неделю в наш сервис зайдёт столько же \n",
    "пользователей, сколько зашло в период АА-теста  '2024-12-27' по '2025-01-02'. \n",
    "Мы планируем разбивать пользователей на две группы в соотношении 50/50.\n",
    "Посчитайте, сколько пользователей в таком случае придётся на одну группу.\n",
    "\n",
    "Эффект алгоритма на просмотры сымитируем следующим образом:\n",
    "group_B_views + ((1 + np.binomial(n=1, p=0.5, size=размер_выборки)) * \n",
    "                 np.binomial(n=1, p=0.9, size=размер_выборки) * (group_B_views >= 50)). '''"
   ]
  },
  {
   "cell_type": "code",
   "execution_count": 1,
   "id": "9be52644-e744-4c73-9ac2-d74b77905197",
   "metadata": {},
   "outputs": [],
   "source": [
    "# Импортируем все необходимое\n",
    "from scipy import stats\n",
    "import pandahouse as ph\n",
    "import pandas as pd\n",
    "import seaborn as sns\n",
    "import matplotlib.pyplot as plt\n",
    "import numpy as np\n",
    "from scipy.stats import norm, ttest_ind\n",
    "from tqdm import tqdm\n",
    "# Это создает объект-генератор случайных чисел (RNG) из NumPy\n",
    "rng = np.random.default_rng() "
   ]
  },
  {
   "cell_type": "code",
   "execution_count": 2,
   "id": "5b10adbe-2080-48b0-979f-88fb7449c671",
   "metadata": {},
   "outputs": [],
   "source": [
    "#  Соединяемся с кликхаус\n",
    "connection = {'host': 'https://clickhouse.lab.karpov.courses',\n",
    "              'database':'simulator_20250120',\n",
    "              'user':'student',\n",
    "              'password':'dpo_python_2020'}\n",
    "# Запрос в кликхаус для распределения просмотров\n",
    "q = \"\"\"\n",
    "SELECT views, count() as users\n",
    "FROM(SELECT\n",
    "    user_id,\n",
    "    sum(action = 'view') as views\n",
    "    FROM {db}.feed_actions \n",
    "    WHERE toDate(time) >= toDate('2024-12-27') and toDate(time) <= toDate('2025-01-02')\n",
    "    GROUP BY user_id)\n",
    "group by views\n",
    "order by views\n",
    "\"\"\"\n",
    "# Запрос исходной таблицы из БД для понимания структуры таблицы\n",
    "q_table = \"\"\"\n",
    "SELECT *\n",
    "FROM {db}.feed_actions \n",
    "WHERE toDate(time) >= toDate('2025-01-03') and toDate(time) <= toDate('2025-01-04')\"\"\""
   ]
  },
  {
   "cell_type": "code",
   "execution_count": 3,
   "id": "d70046a9-7ed6-4728-b362-c0840ff5bbcc",
   "metadata": {},
   "outputs": [
    {
     "data": {
      "text/html": [
       "<div>\n",
       "<style scoped>\n",
       "    .dataframe tbody tr th:only-of-type {\n",
       "        vertical-align: middle;\n",
       "    }\n",
       "\n",
       "    .dataframe tbody tr th {\n",
       "        vertical-align: top;\n",
       "    }\n",
       "\n",
       "    .dataframe thead th {\n",
       "        text-align: right;\n",
       "    }\n",
       "</style>\n",
       "<table border=\"1\" class=\"dataframe\">\n",
       "  <thead>\n",
       "    <tr style=\"text-align: right;\">\n",
       "      <th></th>\n",
       "      <th>user_id</th>\n",
       "      <th>post_id</th>\n",
       "      <th>action</th>\n",
       "      <th>time</th>\n",
       "      <th>gender</th>\n",
       "      <th>age</th>\n",
       "      <th>country</th>\n",
       "      <th>city</th>\n",
       "      <th>os</th>\n",
       "      <th>source</th>\n",
       "      <th>exp_group</th>\n",
       "    </tr>\n",
       "  </thead>\n",
       "  <tbody>\n",
       "    <tr>\n",
       "      <th>0</th>\n",
       "      <td>123767</td>\n",
       "      <td>2040</td>\n",
       "      <td>view</td>\n",
       "      <td>2025-01-04 20:06:53</td>\n",
       "      <td>1</td>\n",
       "      <td>21</td>\n",
       "      <td>Russia</td>\n",
       "      <td>Samara</td>\n",
       "      <td>Android</td>\n",
       "      <td>organic</td>\n",
       "      <td>1</td>\n",
       "    </tr>\n",
       "    <tr>\n",
       "      <th>1</th>\n",
       "      <td>129655</td>\n",
       "      <td>2116</td>\n",
       "      <td>view</td>\n",
       "      <td>2025-01-04 20:06:53</td>\n",
       "      <td>0</td>\n",
       "      <td>26</td>\n",
       "      <td>Russia</td>\n",
       "      <td>Saint Petersburg</td>\n",
       "      <td>iOS</td>\n",
       "      <td>organic</td>\n",
       "      <td>4</td>\n",
       "    </tr>\n",
       "    <tr>\n",
       "      <th>2</th>\n",
       "      <td>131026</td>\n",
       "      <td>2095</td>\n",
       "      <td>view</td>\n",
       "      <td>2025-01-04 20:06:53</td>\n",
       "      <td>1</td>\n",
       "      <td>22</td>\n",
       "      <td>Russia</td>\n",
       "      <td>Moscow</td>\n",
       "      <td>Android</td>\n",
       "      <td>organic</td>\n",
       "      <td>4</td>\n",
       "    </tr>\n",
       "    <tr>\n",
       "      <th>3</th>\n",
       "      <td>28786</td>\n",
       "      <td>2167</td>\n",
       "      <td>view</td>\n",
       "      <td>2025-01-04 20:06:54</td>\n",
       "      <td>1</td>\n",
       "      <td>16</td>\n",
       "      <td>Russia</td>\n",
       "      <td>Moscow</td>\n",
       "      <td>iOS</td>\n",
       "      <td>ads</td>\n",
       "      <td>2</td>\n",
       "    </tr>\n",
       "    <tr>\n",
       "      <th>4</th>\n",
       "      <td>131026</td>\n",
       "      <td>2048</td>\n",
       "      <td>view</td>\n",
       "      <td>2025-01-04 20:06:54</td>\n",
       "      <td>1</td>\n",
       "      <td>22</td>\n",
       "      <td>Russia</td>\n",
       "      <td>Moscow</td>\n",
       "      <td>Android</td>\n",
       "      <td>organic</td>\n",
       "      <td>4</td>\n",
       "    </tr>\n",
       "  </tbody>\n",
       "</table>\n",
       "</div>"
      ],
      "text/plain": [
       "   user_id  post_id action                time  gender  age country  \\\n",
       "0   123767     2040   view 2025-01-04 20:06:53       1   21  Russia   \n",
       "1   129655     2116   view 2025-01-04 20:06:53       0   26  Russia   \n",
       "2   131026     2095   view 2025-01-04 20:06:53       1   22  Russia   \n",
       "3    28786     2167   view 2025-01-04 20:06:54       1   16  Russia   \n",
       "4   131026     2048   view 2025-01-04 20:06:54       1   22  Russia   \n",
       "\n",
       "               city       os   source  exp_group  \n",
       "0            Samara  Android  organic          1  \n",
       "1  Saint Petersburg      iOS  organic          4  \n",
       "2            Moscow  Android  organic          4  \n",
       "3            Moscow      iOS      ads          2  \n",
       "4            Moscow  Android  organic          4  "
      ]
     },
     "execution_count": 3,
     "metadata": {},
     "output_type": "execute_result"
    }
   ],
   "source": [
    "# Наша исходная таблица со всеми данными по каждому пользователю и группой exp_group\n",
    "df_table = ph.read_clickhouse(q_table, connection=connection)\n",
    "df_table.head(5)"
   ]
  },
  {
   "cell_type": "code",
   "execution_count": 4,
   "id": "a19371ea-ad32-4a4b-b627-06b4c7c2da55",
   "metadata": {},
   "outputs": [
    {
     "data": {
      "text/html": [
       "<div>\n",
       "<style scoped>\n",
       "    .dataframe tbody tr th:only-of-type {\n",
       "        vertical-align: middle;\n",
       "    }\n",
       "\n",
       "    .dataframe tbody tr th {\n",
       "        vertical-align: top;\n",
       "    }\n",
       "\n",
       "    .dataframe thead th {\n",
       "        text-align: right;\n",
       "    }\n",
       "</style>\n",
       "<table border=\"1\" class=\"dataframe\">\n",
       "  <thead>\n",
       "    <tr style=\"text-align: right;\">\n",
       "      <th></th>\n",
       "      <th>views</th>\n",
       "      <th>users</th>\n",
       "    </tr>\n",
       "  </thead>\n",
       "  <tbody>\n",
       "    <tr>\n",
       "      <th>0</th>\n",
       "      <td>1</td>\n",
       "      <td>4</td>\n",
       "    </tr>\n",
       "    <tr>\n",
       "      <th>1</th>\n",
       "      <td>2</td>\n",
       "      <td>1</td>\n",
       "    </tr>\n",
       "    <tr>\n",
       "      <th>2</th>\n",
       "      <td>3</td>\n",
       "      <td>4</td>\n",
       "    </tr>\n",
       "    <tr>\n",
       "      <th>3</th>\n",
       "      <td>4</td>\n",
       "      <td>5</td>\n",
       "    </tr>\n",
       "    <tr>\n",
       "      <th>4</th>\n",
       "      <td>5</td>\n",
       "      <td>18</td>\n",
       "    </tr>\n",
       "  </tbody>\n",
       "</table>\n",
       "</div>"
      ],
      "text/plain": [
       "   views  users\n",
       "0      1      4\n",
       "1      2      1\n",
       "2      3      4\n",
       "3      4      5\n",
       "4      5     18"
      ]
     },
     "execution_count": 4,
     "metadata": {},
     "output_type": "execute_result"
    }
   ],
   "source": [
    "# Посмотрим наш датафрейм с распределением просмотров\n",
    "views_distribution = ph.read_clickhouse(q, connection=connection)\n",
    "views_distribution.head(5)"
   ]
  },
  {
   "cell_type": "code",
   "execution_count": 5,
   "id": "c93e6c48-959e-4768-8d0e-d6711d1ec8a4",
   "metadata": {},
   "outputs": [
    {
     "data": {
      "text/html": [
       "<div>\n",
       "<style scoped>\n",
       "    .dataframe tbody tr th:only-of-type {\n",
       "        vertical-align: middle;\n",
       "    }\n",
       "\n",
       "    .dataframe tbody tr th {\n",
       "        vertical-align: top;\n",
       "    }\n",
       "\n",
       "    .dataframe thead th {\n",
       "        text-align: right;\n",
       "    }\n",
       "</style>\n",
       "<table border=\"1\" class=\"dataframe\">\n",
       "  <thead>\n",
       "    <tr style=\"text-align: right;\">\n",
       "      <th></th>\n",
       "      <th>views</th>\n",
       "      <th>users</th>\n",
       "      <th>p</th>\n",
       "    </tr>\n",
       "  </thead>\n",
       "  <tbody>\n",
       "    <tr>\n",
       "      <th>0</th>\n",
       "      <td>1</td>\n",
       "      <td>4</td>\n",
       "      <td>0.000095</td>\n",
       "    </tr>\n",
       "    <tr>\n",
       "      <th>1</th>\n",
       "      <td>2</td>\n",
       "      <td>1</td>\n",
       "      <td>0.000024</td>\n",
       "    </tr>\n",
       "    <tr>\n",
       "      <th>2</th>\n",
       "      <td>3</td>\n",
       "      <td>4</td>\n",
       "      <td>0.000095</td>\n",
       "    </tr>\n",
       "    <tr>\n",
       "      <th>3</th>\n",
       "      <td>4</td>\n",
       "      <td>5</td>\n",
       "      <td>0.000119</td>\n",
       "    </tr>\n",
       "  </tbody>\n",
       "</table>\n",
       "</div>"
      ],
      "text/plain": [
       "   views  users         p\n",
       "0      1      4  0.000095\n",
       "1      2      1  0.000024\n",
       "2      3      4  0.000095\n",
       "3      4      5  0.000119"
      ]
     },
     "execution_count": 5,
     "metadata": {},
     "output_type": "execute_result"
    }
   ],
   "source": [
    "# Нормируем распределение поделив каждое количество (пользователей) на общую сумму\n",
    "# получив вероятность появления такого события для каждого количества просмотров\n",
    "views_distribution['p'] = views_distribution['users']/views_distribution.users.sum()\n",
    "# Распределение просмотров по количеству пользователей\n",
    "views_distribution.head(4)"
   ]
  },
  {
   "cell_type": "code",
   "execution_count": 14,
   "id": "fb6f898b-f2e6-4d83-8514-deaaeea02fff",
   "metadata": {},
   "outputs": [
    {
     "data": {
      "text/html": [
       "<div>\n",
       "<style scoped>\n",
       "    .dataframe tbody tr th:only-of-type {\n",
       "        vertical-align: middle;\n",
       "    }\n",
       "\n",
       "    .dataframe tbody tr th {\n",
       "        vertical-align: top;\n",
       "    }\n",
       "\n",
       "    .dataframe thead th {\n",
       "        text-align: right;\n",
       "    }\n",
       "</style>\n",
       "<table border=\"1\" class=\"dataframe\">\n",
       "  <thead>\n",
       "    <tr style=\"text-align: right;\">\n",
       "      <th></th>\n",
       "      <th>ctr</th>\n",
       "      <th>users</th>\n",
       "      <th>p</th>\n",
       "    </tr>\n",
       "  </thead>\n",
       "  <tbody>\n",
       "    <tr>\n",
       "      <th>0</th>\n",
       "      <td>0.02</td>\n",
       "      <td>48</td>\n",
       "      <td>0.000574</td>\n",
       "    </tr>\n",
       "    <tr>\n",
       "      <th>1</th>\n",
       "      <td>0.03</td>\n",
       "      <td>142</td>\n",
       "      <td>0.001697</td>\n",
       "    </tr>\n",
       "    <tr>\n",
       "      <th>2</th>\n",
       "      <td>0.04</td>\n",
       "      <td>312</td>\n",
       "      <td>0.003729</td>\n",
       "    </tr>\n",
       "  </tbody>\n",
       "</table>\n",
       "</div>"
      ],
      "text/plain": [
       "    ctr  users         p\n",
       "0  0.02     48  0.000574\n",
       "1  0.03    142  0.001697\n",
       "2  0.04    312  0.003729"
      ]
     },
     "execution_count": 14,
     "metadata": {},
     "output_type": "execute_result"
    }
   ],
   "source": [
    "# Запрос в кликхаус CTR на пользователя по дням - в подзапросе\n",
    "# и после достаем распределение CTR по количеству пользователей\n",
    "q = \"\"\"\n",
    "SELECT floor(ctr, 2) as ctr, count() as users\n",
    "FROM(SELECT toDate(time) as dt,\n",
    "    user_id,\n",
    "    sum(action = 'like')/sum(action = 'view') as ctr\n",
    "    FROM {db}.feed_actions \n",
    "    WHERE toDate(time) >= toDate('2024-12-27') and toDate(time) <= toDate('2025-01-02')\n",
    "    GROUP BY user_id, dt\n",
    "    HAVING sum(action = 'view') != 0 and sum(action = 'like') != 0)\n",
    "group by ctr\n",
    "order by ctr\n",
    "\"\"\"\n",
    "\n",
    "ctr_distribution = ph.read_clickhouse(q, connection=connection)\n",
    "# Нормируем CTR\n",
    "ctr_distribution['p'] = ctr_distribution['users']/ctr_distribution.users.sum()\n",
    "ctr_distribution.head(3)  "
   ]
  },
  {
   "cell_type": "code",
   "execution_count": 17,
   "id": "583fbfb2-db76-4d8b-b536-c26021509b33",
   "metadata": {},
   "outputs": [
    {
     "data": {
      "text/plain": [
       "20998"
      ]
     },
     "execution_count": 17,
     "metadata": {},
     "output_type": "execute_result"
    }
   ],
   "source": [
    "# Сколько пользователей было в АА-тесте\n",
    "q = \"\"\"\n",
    "SELECT uniqExact(user_id)    \n",
    "FROM {db}.feed_actions \n",
    "WHERE toDate(time) >= toDate('2024-12-27') and toDate(time) <= toDate('2025-01-02')\n",
    "     \"\"\"\n",
    "n_users = ph.read_clickhouse(q, connection=connection)\n",
    "n_users = int(n_users.iloc[0,0]//2)\n",
    "# Сколько попадёт в одну группу при равной разбивке\n",
    "n_users"
   ]
  },
  {
   "cell_type": "code",
   "execution_count": 18,
   "id": "dbb76229-da63-41e4-93f9-22f246069b9f",
   "metadata": {},
   "outputs": [
    {
     "data": {
      "text/plain": [
       "Text(0.5, 1.0, 'ctr')"
      ]
     },
     "execution_count": 18,
     "metadata": {},
     "output_type": "execute_result"
    },
    {
     "data": {
      "image/png": "[encoded data removed]",
      "text/plain": [
       "<Figure size 1008x216 with 2 Axes>"
      ]
     },
     "metadata": {
      "needs_background": "light"
     },
     "output_type": "display_data"
    }
   ],
   "source": [
    "# Получим массив NumPy размером n_users с помощью генератора rng \n",
    "# choice - метод для генерации случайных выборок из заданного массива\n",
    "sim_views = rng.choice(views_distribution['views'], size=n_users, replace=True, p=views_distribution['p'])\n",
    "sim_ctrs = rng.choice(ctr_distribution['ctr'], size=n_users, replace=True, p=ctr_distribution['p'])\n",
    "# Посмотрим на распределение сэмплированных просмотров и CTR\n",
    "# Сделаем фигуру из двух графиков \n",
    "fig, ax = plt.subplots(1, 2, figsize=(14,3))\n",
    "sns.histplot(sim_views, ax=ax[0])\n",
    "ax[0].set_title('views')\n",
    "sns.histplot(sim_ctrs, ax=ax[1])\n",
    "ax[1].set_title('ctr')"
   ]
  },
  {
   "cell_type": "code",
   "execution_count": 19,
   "id": "d413f35c-2e37-4f5a-812a-83b7fda7bd6b",
   "metadata": {},
   "outputs": [
    {
     "data": {
      "text/plain": [
       "<Axes: ylabel='Count'>"
      ]
     },
     "execution_count": 19,
     "metadata": {},
     "output_type": "execute_result"
    },
    {
     "data": {
      "image/png": "[encoded data removed]",
      "text/plain": [
       "<Figure size 432x216 with 1 Axes>"
      ]
     },
     "metadata": {
      "needs_background": "light"
     },
     "output_type": "display_data"
    }
   ],
   "source": [
    "# Поскольку лайки это случайная величина, зависящая от просмотров, мы допускаем что просмотр \n",
    "# это как испытаение а вероятность успеха испытания это CTR\n",
    "# Сэмплируем лайки из биномиального распределения просмотров с вероятностью p=sim_ctrs\n",
    "plt.figure(figsize=(6, 3))\n",
    "sim_clicks = rng.binomial(n=sim_views.astype(\"int64\"), p=sim_ctrs)\n",
    "sns.histplot(sim_clicks)"
   ]
  },
  {
   "cell_type": "code",
   "execution_count": null,
   "id": "0899ccea-e238-459c-bdfe-4b68d1c92d9d",
   "metadata": {},
   "outputs": [],
   "source": [
    "Проведем АА тест на наших выбоках и посмотрим что они однородны по лайкам.\n",
    "Напишем функцию которая посчитает количество ложных срабатываний т-теста"
   ]
  },
  {
   "cell_type": "code",
   "execution_count": 23,
   "id": "c43dd26b-fd3d-4b07-89e3-510444df77b7",
   "metadata": {},
   "outputs": [],
   "source": [
    "\"\"\" sample_size: размер выборок\n",
    "    views_df: датафрейм со значениями просмотров и их вероятностями\n",
    "    ctr_df: датафрейм со значениями прользовательских CTR и их вероятностями\n",
    "    nsim: количество симуляций (по умолчанию 1000)\n",
    "    return: значение мощности от 0 до 1 \"\"\"\n",
    "def fpr_calc(sample_size, views_df, ctr_df, nsim=1000):\n",
    "\n",
    "    pvalues = [] #список, куда мы будем складывать p-value\n",
    "    #симуляируем и сравниваем выборки nsim раз:\n",
    "    for _ in tqdm(range(nsim)):\n",
    "\n",
    "        #симулируем просмотры\n",
    "        group_A_views = rng.choice(a=views_df.views, size=sample_size, replace=True, p=views_df.p).astype(\"int64\")\n",
    "        group_B_views = rng.choice(a=views_df.views, size=sample_size, replace=True, p=views_df.p).astype(\"int64\")\n",
    "\n",
    "        #симулируем CTR\n",
    "        group_A_ctr = rng.choice(a=ctr_df.ctr, size=sample_size, replace=True, p=ctr_df.p)\n",
    "        group_B_ctr = rng.choice(a=ctr_df.ctr, size=sample_size, replace=True, p=ctr_df.p)\n",
    "\n",
    "        #симулируем лайки\n",
    "        clicks_A = rng.binomial(n=group_A_views, p=group_A_ctr)\n",
    "        clicks_B = rng.binomial(n=group_B_views, p=group_B_ctr)\n",
    "\n",
    "        #сравниваем t-тестом и сохраняем p-value\n",
    "        pvalues.append(ttest_ind(clicks_A, clicks_B, equal_var=False).pvalue)\n",
    "\n",
    "    #возвращаем долю - как все значения (Folse+True) в массиве/на число True которые <0.05\n",
    "    return np.mean(np.array(pvalues) < 0.05)"
   ]
  },
  {
   "cell_type": "code",
   "execution_count": 24,
   "id": "ca567f18-98cc-42d5-9b3d-e502ae84b578",
   "metadata": {},
   "outputs": [
    {
     "name": "stderr",
     "output_type": "stream",
     "text": [
      "100%|██████████| 1000/1000 [00:11<00:00, 85.05it/s]\n"
     ]
    },
    {
     "data": {
      "text/plain": [
       "0.047"
      ]
     },
     "execution_count": 24,
     "metadata": {},
     "output_type": "execute_result"
    }
   ],
   "source": [
    "fpr_calc(sample_size=n_users, views_df=views_distribution, ctr_df=ctr_distribution, nsim=1000)"
   ]
  },
  {
   "cell_type": "code",
   "execution_count": null,
   "id": "676acd97-ef34-41f6-b67c-cff35bea2a3e",
   "metadata": {},
   "outputs": [],
   "source": [
    "Ожидаемый результат - наши выборки статистически однородны"
   ]
  },
  {
   "cell_type": "code",
   "execution_count": null,
   "id": "48cf5f90-e24e-4253-a765-25e84849f0c1",
   "metadata": {},
   "outputs": [],
   "source": [
    "''' Наш алгоритм добавляет 1-2 (1 или 2 будем делать как 50%) просмотра с 90% вероятностью\n",
    "    т.е. у нас 0 или 1 -это условно сколько лайков будем добавлять к 1 постоянному лайку\n",
    "    а далее условия на 90% - это тоже массив 0 и 1, и на >50 просмотров - это массив True/False\n",
    "    У кого менее 50 просмотров не сработает'''\n",
    "(1 + rng.binomial(n=1, p=0.5, size=n)) * rng.binomial(n=1, p=0.9, size=n) * (group_B_views >= 50)"
   ]
  },
  {
   "cell_type": "code",
   "execution_count": 29,
   "id": "938a5e33-ab9d-4c73-8061-82298f2b165d",
   "metadata": {},
   "outputs": [],
   "source": [
    "def power_calc(sample_size, views_df, ctr_df, threshold, nsim=1000):\n",
    "    p = []\n",
    "    for _ in tqdm(range(nsim)):\n",
    "        #симулируем просмотры\n",
    "        group_A_views = rng.choice(views_df.views, size=sample_size, replace=True, p=views_df.p).astype(\"int64\")\n",
    "        group_B_views = rng.choice(views_df.views, size=sample_size, replace=True, p=views_df.p).astype(\"int64\")\n",
    "        #симулируем эффект в тестовой группе\n",
    "        group_B_views = group_B_views + \\\n",
    "        ((1 + rng.binomial(n=1, p=0.5, size=sample_size)) * rng.binomial(n=1, p=0.9, size=sample_size)\\\n",
    "         * (group_B_views >= threshold))\n",
    "        group_B_views = group_B_views.astype(\"int64\")\n",
    "        #симулируем CTR\n",
    "        group_A_ctr = rng.choice(ctr_df.ctr, size=sample_size, replace=True, p=ctr_df.p)\n",
    "        group_B_ctr = rng.choice(ctr_df.ctr, size=sample_size, replace=True, p=ctr_df.p)\n",
    "        #симулируем лайки\n",
    "        likes_A = rng.binomial(group_A_views, group_A_ctr)\n",
    "        likes_B = rng.binomial(group_B_views, group_B_ctr)\n",
    "        #сравниваем t-тестом и сохраняем p-value\n",
    "        p.append(stats.ttest_ind(likes_A, likes_B, equal_var=False).pvalue)\n",
    "    \n",
    "    return np.mean(np.array(p) < 0.05)"
   ]
  },
  {
   "cell_type": "code",
   "execution_count": 30,
   "id": "73f751d9-6f75-4180-9672-2129d8185a5e",
   "metadata": {},
   "outputs": [
    {
     "name": "stderr",
     "output_type": "stream",
     "text": [
      "100%|██████████| 1000/1000 [00:12<00:00, 80.49it/s]\n"
     ]
    },
    {
     "data": {
      "text/plain": [
       "0.261"
      ]
     },
     "execution_count": 30,
     "metadata": {},
     "output_type": "execute_result"
    }
   ],
   "source": [
    "# Для пользователей с числом просмотров > 50\n",
    "power_calc(sample_size=n_users, views_df=views_distribution, ctr_df=ctr_distribution, nsim=1000, threshold=50)"
   ]
  },
  {
   "cell_type": "code",
   "execution_count": null,
   "id": "c96a3823-4446-43af-afcf-aa4e9ee76655",
   "metadata": {},
   "outputs": [],
   "source": [
    "'''Мощность теста при условии что наши изменения в 1-2 просмотра должны изменить количество лайков при\n",
    "текущих условия не достаточная чтоб это заметить'''"
   ]
  },
  {
   "cell_type": "code",
   "execution_count": 31,
   "id": "6e14c839-7eda-4ad1-95dc-8cd88b7c45bd",
   "metadata": {},
   "outputs": [
    {
     "name": "stderr",
     "output_type": "stream",
     "text": [
      "100%|██████████| 20000/20000 [04:08<00:00, 80.36it/s]\n"
     ]
    },
    {
     "data": {
      "text/plain": [
       "0.42825"
      ]
     },
     "execution_count": 31,
     "metadata": {},
     "output_type": "execute_result"
    }
   ],
   "source": [
    "# Для пользователей с числом просмотров > 30 и увеличим число экспериментов\n",
    "power_calc(sample_size=n_users, views_df=views_distribution, ctr_df=ctr_distribution, nsim=20000, threshold=30)"
   ]
  },
  {
   "cell_type": "code",
   "execution_count": null,
   "id": "05c27253-1b80-4634-b0a6-34978866c58d",
   "metadata": {},
   "outputs": [],
   "source": [
    "'''Мощность увеличилась но еще до 80% далеко\n",
    "   Попробуем увеличить период с 1 до 2 недель - это увеличит размер наших выборок\n",
    "   Найдем этот размер через запрос в кликхаус'''"
   ]
  },
  {
   "cell_type": "code",
   "execution_count": 32,
   "id": "c24d4b12-636b-4d1d-b3b3-9e8a074ff906",
   "metadata": {},
   "outputs": [
    {
     "data": {
      "text/plain": [
       "29903"
      ]
     },
     "execution_count": 32,
     "metadata": {},
     "output_type": "execute_result"
    }
   ],
   "source": [
    "# 2 недели\n",
    "q = \"\"\"\n",
    "SELECT uniqExact(user_id)    \n",
    "FROM {db}.feed_actions \n",
    "WHERE toDate(time) >= toDate('2024-12-27') and toDate(time) <= toDate('2025-01-08')\n",
    "     \"\"\"\n",
    "n_users = ph.read_clickhouse(q, connection=connection)\n",
    "n_users = int(n_users.iloc[0,0]//2)\n",
    "# Сколько попадёт в одну группу при равной разбивке\n",
    "n_users"
   ]
  },
  {
   "cell_type": "code",
   "execution_count": 33,
   "id": "572ff057-00b9-4e06-9891-3ed59de3b3d0",
   "metadata": {},
   "outputs": [
    {
     "name": "stderr",
     "output_type": "stream",
     "text": [
      "100%|██████████| 20000/20000 [05:49<00:00, 57.15it/s]\n"
     ]
    },
    {
     "data": {
      "text/plain": [
       "0.56225"
      ]
     },
     "execution_count": 33,
     "metadata": {},
     "output_type": "execute_result"
    }
   ],
   "source": [
    "# Для пользователей с числом просмотров > 30 и увеличенным размером выборки (2недели)\n",
    "power_calc(sample_size=n_users, views_df=views_distribution, ctr_df=ctr_distribution, nsim=20000, threshold=30)"
   ]
  },
  {
   "cell_type": "code",
   "execution_count": null,
   "id": "b3fbc5b4-c1e3-4841-9ca3-6f0ecd703d1a",
   "metadata": {},
   "outputs": [],
   "source": [
    "''' 56%  для двух недель - маловато. Что можно попробовать еще?\n",
    "    Возьмем пользователей в тест, только таких, у которых больше 30 просмотров\n",
    "    Для этого немного изменим функцию, добавим фильтр в виде маски'''"
   ]
  },
  {
   "cell_type": "code",
   "execution_count": 36,
   "id": "bceddfc5-fb85-4128-9384-c498fc5f1ba0",
   "metadata": {},
   "outputs": [],
   "source": [
    "def power_calc_mask(sample_size, views_df, ctr_df, threshold, nsim=1000):\n",
    "    p = []\n",
    "    for _ in tqdm(range(nsim)):\n",
    "        #симулируем просмотры\n",
    "        group_A_views = rng.choice(views_df.views, size=sample_size, replace=True, p=views_df.p).astype(\"int64\")\n",
    "        group_B_views = rng.choice(views_df.views, size=sample_size, replace=True, p=views_df.p).astype(\"int64\")\n",
    "        #симулируем эффект в тестовой группе\n",
    "        group_B_views = group_B_views + \\\n",
    "        ((1 + rng.binomial(n=1, p=0.5, size=sample_size)) * rng.binomial(n=1, p=0.9, size=sample_size)\\\n",
    "         * (group_B_views >= threshold))\n",
    "        group_B_views = group_B_views.astype(\"int64\")\n",
    "        #симулируем CTR\n",
    "        group_A_ctr = rng.choice(ctr_df.ctr, size=sample_size, replace=True, p=ctr_df.p)\n",
    "        group_B_ctr = rng.choice(ctr_df.ctr, size=sample_size, replace=True, p=ctr_df.p)\n",
    "        # маски для фильтрации по просмотрам - это масиив True/Fals\n",
    "        mask_A = group_A_views >= 30 # Маска создается на основе просмотров, но применяется к кликам,\n",
    "        mask_B = group_B_views >= 30 # чтобы отобрать клики только тех пользователей, \n",
    "                                     # которые удовлетворяют условию (≥30 просмотров). \n",
    "        \n",
    "        #симулируем лайки\n",
    "        likes_A = rng.binomial(group_A_views, group_A_ctr)\n",
    "        likes_B = rng.binomial(group_B_views, group_B_ctr)\n",
    "        #сравниваем t-тестом и сохраняем p-value\n",
    "        p.append(stats.ttest_ind(likes_A[mask_A], likes_B[mask_B], equal_var=False).pvalue)\n",
    "    \n",
    "    return np.mean(np.array(p) < 0.05)"
   ]
  },
  {
   "cell_type": "code",
   "execution_count": 37,
   "id": "86a43992-5450-46d9-84ab-435fb3c30cbc",
   "metadata": {},
   "outputs": [
    {
     "name": "stderr",
     "output_type": "stream",
     "text": [
      "100%|██████████| 20000/20000 [05:54<00:00, 56.49it/s]\n"
     ]
    },
    {
     "data": {
      "text/plain": [
       "0.65085"
      ]
     },
     "execution_count": 37,
     "metadata": {},
     "output_type": "execute_result"
    }
   ],
   "source": [
    "# Только для пользователей с числом просмотров > 30 и увеличенным размером выборки (2недели)\n",
    "power_calc_mask(sample_size=n_users, views_df=views_distribution, ctr_df=ctr_distribution, nsim=20000, threshold=30)"
   ]
  },
  {
   "cell_type": "code",
   "execution_count": null,
   "id": "b50162e5-d3ee-4e01-ac9f-26e8bd21dc18",
   "metadata": {},
   "outputs": [],
   "source": [
    "'''65% если фильтровать пользователей, увеличить выборку, и если алгоритм \n",
    "   будет работать пользователями > 30 просмотров.\n",
    "   В таких условиях детектировать изменения в лайках (при условии изменения в просмотрах на +1-2)с заданным \n",
    "   уровнем мощности 80% не получится\n",
    "   Но можно, если есть такая возможность увеличивать выборку (время теста)\n",
    "   Можно добабатывать алгорит чтоб он работал на более широкую аудиторию или\n",
    "   давал более значительные результаты чем +2 просмотра''' "
   ]
  }
 ],
 "metadata": {
  "kernelspec": {
   "display_name": "Python 3 (ipykernel)",
   "language": "python",
   "name": "python3"
  },
  "language_info": {
   "codemirror_mode": {
    "name": "ipython",
    "version": 3
   },
   "file_extension": ".py",
   "mimetype": "text/x-python",
   "name": "python",
   "nbconvert_exporter": "python",
   "pygments_lexer": "ipython3",
   "version": "3.8.10"
  }
 },
 "nbformat": 4,
 "nbformat_minor": 5
}
